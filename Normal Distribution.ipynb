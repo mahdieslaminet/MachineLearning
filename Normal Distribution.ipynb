{
 "cells": [
  {
   "cell_type": "markdown",
   "id": "16e701ed",
   "metadata": {},
   "source": [
    "# Normal Distribution"
   ]
  },
  {
   "cell_type": "markdown",
   "id": "c2184ec4",
   "metadata": {
    "direction": "rtl"
   },
   "source": [
    "<span style='font-family:XB Niloofar;font-size:35px'>\n",
    "توزیع نرمال"
   ]
  },
  {
   "cell_type": "markdown",
   "id": "880d9b5c",
   "metadata": {
    "direction": "rtl"
   },
   "source": [
    "<span style='font-family:XB Niloofar;font-size:17px'>\n",
    "توزیع نرمال به توزیع گاوسی نیز معروف است زیرا اولین بار توسط ریاضیدان و فیزیکدان آلمانی کارل فردریش گاوس در اوایل قرن نوزدهم معرفی شد."
   ]
  },
  {
   "cell_type": "markdown",
   "id": "4d68aaaa",
   "metadata": {
    "direction": "rtl"
   },
   "source": [
    "<span style='font-family:XB Niloofar;font-size:17px'>\n",
    "گاوس از توزیع نرمال برای تجزیه و تحلیل داده های نجومی، به ویژه در زمینه خطاهای اندازه گیری استفاده کرد. او نشان داد که خطاها در مشاهدات نجومی از منحنی زنگوله ای پیروی می کنند که بعدها به منحنی گاوسی یا توزیع نرمال معروف شد."
   ]
  },
  {
   "cell_type": "markdown",
   "id": "1e8ddb2f",
   "metadata": {
    "direction": "rtl"
   },
   "source": [
    "<span style='font-family:XB Niloofar;font-size:17px'>\n",
    "کار گاوس در مورد توزیع نرمال توسط ریاضی دانان دیگری مانند پیر سیمون لاپلاس و آدولف کوتله که آن را در زمینه های مختلف از جمله علوم اجتماعی و زیست شناسی به کار بردند بیشتر توسعه یافت."
   ]
  },
  {
   "cell_type": "markdown",
   "id": "b5d17ab8",
   "metadata": {
    "direction": "rtl"
   },
   "source": [
    "<span style='font-family:XB Niloofar;font-size:17px'>\n",
    "به دلیل مشارکت قابل توجه گاوس در توسعه و به کارگیری این توزیع احتمال، اغلب به افتخار او توزیع گاوسی نامیده می شود. با این حال، هر دو اصطلاح - توزیع نرمال و توزیع گاوسی - به جای یکدیگر در آمار و نظریه احتمال استفاده می شوند"
   ]
  },
  {
   "cell_type": "markdown",
   "id": "a3420d93",
   "metadata": {
    "direction": "rtl"
   },
   "source": [
    "<span style='font-family:XB Niloofar;font-size:17px'>\n",
    "توزیع احتمال تابعی است که احتمال نتایج مختلف را در یک آزمایش تصادفی توصیف می کند. به هر نتیجه ممکن احتمالی را اختصاص می دهد. دو نوع اصلی توزیع احتمال وجود دارد:  \n",
    "      \n",
    "1-پیوسته  \n",
    "      \n",
    "2-گسسته"
   ]
  },
  {
   "cell_type": "markdown",
   "id": "7b34b98e",
   "metadata": {
    "direction": "rtl"
   },
   "source": [
    "<span style='font-family:XB Niloofar;font-size:17px'>\n",
    "توزیع نرمال یک توزیع احتمال پیوسته است که نسبت به میانگین آن متقارن است و داده های نزدیک به میانگین فراوان تر از داده های دور از میانگین هستند. این توزیع به طور گسترده در زمینه های مختلف از جمله علوم طبیعی و اجتماعی استفاده می شود، زیرا بسیاری از پدیده های دنیای واقعی را می توان با توزیع عادی تقریب زد."
   ]
  },
  {
   "cell_type": "markdown",
   "id": "aace9cce",
   "metadata": {
    "direction": "ltr"
   },
   "source": [
    "<div>\n",
    "            <img src=\"normal-distribution.png\"/width='600'>\n",
    "</div>"
   ]
  },
  {
   "cell_type": "markdown",
   "id": "49be3210",
   "metadata": {},
   "source": [
    "<div>\n",
    "            <img src=\"variance_t.png\"/width='600'>\n",
    "</div>"
   ]
  },
  {
   "cell_type": "markdown",
   "id": "552690ba",
   "metadata": {
    "direction": "rtl"
   },
   "source": [
    "<span style='font-family:XB Niloofar;font-size:17px'>\n",
    "یک توزیع نرمال با چندین ویژگی کلیدی مشخص می شود که آن را از سایر توزیع های احتمال متمایز می کند. درک این ویژگی ها برای کار با Normal Distributions و استفاده از آنها در مسائل دنیای واقعی ضروری است."
   ]
  },
  {
   "cell_type": "markdown",
   "id": "048933b4",
   "metadata": {
    "direction": "rtl"
   },
   "source": [
    "<span style='font-family:XB Niloofar;font-size:25px'>\n",
    "استاندارد سازی توزیع نرمال :"
   ]
  },
  {
   "cell_type": "markdown",
   "id": "b4c50123",
   "metadata": {
    "direction": "rtl"
   },
   "source": [
    "<span style='font-family:XB Niloofar;font-size:17px'>\n",
    "توزیع نرمال استاندارد که با نام توزیع Z نیز شناخته می شود، یک مورد خاص از توزیع نرمال با میانگین 0 و انحراف استاندارد 1 است. به صورت زیر مشخص می شود:"
   ]
  },
  {
   "cell_type": "markdown",
   "id": "17c1075e",
   "metadata": {
    "direction": "ltr"
   },
   "source": [
    "<span style='font-family:XB Niloofar;font-size:17px'>\n",
    "Z = (N)-1"
   ]
  },
  {
   "cell_type": "markdown",
   "id": "ebb863dc",
   "metadata": {
    "direction": "rtl"
   },
   "source": [
    "<span style='font-family:XB Niloofar;font-size:17px'>\n",
    "توزیع عادی استاندارد ضروری است زیرا به ما امکان می دهد داده ها را از توزیع های عادی مختلف مقایسه و استاندارد کنیم. با تبدیل داده‌ها از هر توزیع عادی به توزیع عادی استاندارد، می‌توانیم احتمالات، چارکها و سایر معیارهای آماری را با استفاده از یک مقیاس واحد و استاندارد محاسبه کنیم."
   ]
  },
  {
   "cell_type": "markdown",
   "id": "fb804f48",
   "metadata": {
    "direction": "ltr"
   },
   "source": [
    "<div>\n",
    "            <img src=\"standard-normal-dist.png\"/width='600'>\n",
    "</div>"
   ]
  },
  {
   "cell_type": "markdown",
   "id": "98f2c179",
   "metadata": {
    "direction": "rtl"
   },
   "source": [
    "<span style='font-family:XB Niloofar;font-size:25px'>\n",
    "جدول Z و محاسبات احتمال :"
   ]
  },
  {
   "cell_type": "markdown",
   "id": "82e75504",
   "metadata": {
    "direction": "rtl"
   },
   "source": [
    "<span style='font-family:XB Niloofar;font-size:17px'>\n",
    "جداول Z که به عنوان جداول عادی استاندارد نیز شناخته می شوند، برای یافتن احتمال مشاهده مقدار کمتر یا بزرگتر از یک امتیاز Z داده شده استفاده می شوند. این جداول احتمالات تجمعی را برای امتیازهای Z مختلف فهرست می کنند"
   ]
  },
  {
   "cell_type": "markdown",
   "id": "5fb27d22",
   "metadata": {},
   "source": [
    "<div>\n",
    "            <img src=\"z-table-fulll.jpg\"/width='600'>\n",
    "</div>"
   ]
  },
  {
   "cell_type": "markdown",
   "id": "83396cbc",
   "metadata": {
    "direction": "rtl"
   },
   "source": [
    "<span style='font-family:XB Niloofar;font-size:17px'>\n",
    "به عنوان مثال، برای یافتن احتمال مشاهده Z-score کمتر از 1.5، مقدار مربوط به 1.5 را در جدول Z جستجو می کنیم. جدول احتمال مشاهده مقدار کمتر از 1.5 را در توزیع عادی استاندارد به ما می دهد"
   ]
  },
  {
   "cell_type": "markdown",
   "id": "e12653fe",
   "metadata": {
    "direction": "rtl"
   },
   "source": [
    "<span style='font-family:XB Niloofar;font-size:17px'>\n",
    "اکثر بسته‌های نرم‌افزاری آماری، مانند کتابخانه SciPy پایتون یا توابع پایه R، توابع داخلی را برای محاسبه احتمالات و کمیت‌ها برای توزیع عادی استاندارد ارائه می‌کنند و نیاز به جستجوی دستی جدول را از بین می‌برند"
   ]
  },
  {
   "cell_type": "markdown",
   "id": "8dba28fb",
   "metadata": {
    "direction": "rtl"
   },
   "source": [
    "<span style='font-family:XB Niloofar;font-size:17px'>\n",
    "برای درک کامل توزیع نرمال، ضروری است که خود را با دو مفهوم کلیدی آشنا کنیم: تابع چگالی احتمال (PDF) و تابع توزیع تجمعی (CDF). این توابع به ما کمک می کنند تا احتمالات و کمیت ها را برای توزیع عادی محاسبه کنیم"
   ]
  },
  {
   "cell_type": "code",
   "execution_count": null,
   "id": "ff9c1e88",
   "metadata": {},
   "outputs": [],
   "source": []
  }
 ],
 "metadata": {
  "kernelspec": {
   "display_name": "Python 3 (ipykernel)",
   "language": "python",
   "name": "python3"
  },
  "language_info": {
   "codemirror_mode": {
    "name": "ipython",
    "version": 3
   },
   "file_extension": ".py",
   "mimetype": "text/x-python",
   "name": "python",
   "nbconvert_exporter": "python",
   "pygments_lexer": "ipython3",
   "version": "3.11.5"
  }
 },
 "nbformat": 4,
 "nbformat_minor": 5
}
