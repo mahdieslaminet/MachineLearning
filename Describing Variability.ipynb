{
 "cells": [
  {
   "cell_type": "markdown",
   "id": "103a87c9",
   "metadata": {},
   "source": [
    "# Describing Variability"
   ]
  },
  {
   "cell_type": "markdown",
   "id": "5884d512",
   "metadata": {
    "direction": "rtl"
   },
   "source": [
    "<span style='font-family:XB Niloofar;font-size:30px'>\n",
    "توصیف متغیر تصادفی:"
   ]
  },
  {
   "cell_type": "markdown",
   "id": "06c3aa85",
   "metadata": {
    "direction": "rtl"
   },
   "source": [
    "<span style='font-family:XB Niloofar;font-size:17px'>\n",
    "متغیر تصادفی به میزان پراکندگی یا پراکندگی امتیازات در یک توزیع اشاره دارد. این معیاری است که نشان می دهد امتیازات چقدر با یکدیگر و با مرکز توزیع تفاوت دارند"
   ]
  },
  {
   "cell_type": "markdown",
   "id": "e64e9a54",
   "metadata": {
    "direction": "rtl"
   },
   "source": [
    "<span style='font-family:XB Niloofar;font-size:17px'>\n",
    "اندازه گیری متغیر تصادفی بسیار مهم است زیرا اطلاعات ارزشمندی را در مورد گسترش داده ها ارائه می دهد، که تنها با معیارهای گرایش مرکزی به دست نمی آید. درک تنوع به ما کمک می کند :"
   ]
  },
  {
   "cell_type": "markdown",
   "id": "8d26e656",
   "metadata": {
    "direction": "rtl"
   },
   "source": [
    "<span style='font-family:XB Niloofar;font-size:17px'>\n",
    "1-توزیع امتیازات را با دقت بیشتری شرح دهید  \n",
    "      \n",
    "2-امتیازات غیر معمول یا نویزی را شناسایی کنید       \n",
    "3-پراکندگی توزیع های مختلف را مقایسه کنید        \n",
    "4-بر اساس داده ها تصمیمات آگاهانه بگیرید"
   ]
  },
  {
   "cell_type": "markdown",
   "id": "f8453524",
   "metadata": {
    "direction": "rtl"
   },
   "source": [
    "<span style='font-family:XB Niloofar;font-size:17px'>\n",
    "برای مثال، دانستن تنها عمق متوسط ​​آب یک نهر برای تصمیم گیری در مورد ایمن بودن عبور از آن کافی نیست. تغییرپذیری عمق آب به همان اندازه برای تصمیم گیری آگاهانه مهم است"
   ]
  },
  {
   "cell_type": "markdown",
   "id": "f07a0775",
   "metadata": {
    "direction": "rtl"
   },
   "source": [
    "<span style='font-family:XB Niloofar;font-size:17px'>\n",
    "گرایش مرکزی و متغیر تصادفی دو جنبه اساسی در توصیف توزیع امتیازات هستند :"
   ]
  },
  {
   "cell_type": "markdown",
   "id": "ef6c4fc1",
   "metadata": {
    "direction": "rtl"
   },
   "source": [
    "<span style='font-family:XB Niloofar;font-size:17px'>\n",
    "گرایش مرکزی ، مرکز یا مقدار معمولی یک توزیع را اندازه گیری می کند (به عنوان مثال، میانگین، میانه، مد)  \n",
    "      \n",
    "متغیر تصادفی گسترش یا پراکندگی امتیازها را در اطراف مرکز اندازه گیری می کند (به عنوان مثال، محدوده، واریانس، انحراف معیار)."
   ]
  },
  {
   "cell_type": "markdown",
   "id": "cd1c4d18",
   "metadata": {
    "direction": "rtl"
   },
   "source": [
    "<span style='font-family:XB Niloofar;font-size:17px'>\n",
    "هر دو جنبه برای درک ماهیت توزیع ضروری هستند و باید با هم در نظر گرفته شوند"
   ]
  },
  {
   "cell_type": "markdown",
   "id": "d7fecb2b",
   "metadata": {
    "direction": "rtl"
   },
   "source": [
    "<span style='font-family:XB Niloofar;font-size:17px'>\n",
    "با بررسی بصری توزیع‌ها و توجه به تفاوت‌های بین امتیازات فردی، می‌توانیم به طور شهودی مفهوم تنوع و ارتباط آن با گسترش داده‌ها را درک کنیم:"
   ]
  },
  {
   "cell_type": "markdown",
   "id": "278304e0",
   "metadata": {},
   "source": [
    "<div>\n",
    "            <img src=\"different-variance.png\"/width='600'>\n",
    "</div>"
   ]
  },
  {
   "cell_type": "markdown",
   "id": "de34b63e",
   "metadata": {
    "direction": "rtl"
   },
   "source": [
    "<span style='font-family:XB Niloofar;font-size:17px'>\n",
    "در بخش‌های بعدی، معیارهای مختلف متغیر تصادفی را بررسی خواهیم کرد، مانند محدوده، واریانس، انحراف استاندارد و محدوده بین چارکی که میزان گسترش یک توزیع را کمیت می‌کند و درک دقیق‌تری از تنوع ارائه می‌دهد."
   ]
  },
  {
   "cell_type": "markdown",
   "id": "b8726d26",
   "metadata": {
    "direction": "rtl"
   },
   "source": [
    "<span style='font-family:XB Niloofar;font-size:25px'>\n",
    "محدوده (Range):"
   ]
  },
  {
   "cell_type": "markdown",
   "id": "91f15caa",
   "metadata": {
    "direction": "rtl"
   },
   "source": [
    "<span style='font-family:XB Niloofar;font-size:17px'>\n",
    "محدوده ساده ترین معیار متغیر تصادفی است. به عنوان تفاوت بین بزرگترین (حداکثر) و کوچکترین (حداقل) امتیاز در یک توزیع تعریف می شود"
   ]
  },
  {
   "cell_type": "markdown",
   "id": "6475815e",
   "metadata": {},
   "source": [
    "<span style='font-family:XB Niloofar;font-size:17px'>\n",
    "Range = x(max) - x(min)"
   ]
  },
  {
   "cell_type": "markdown",
   "id": "c3db9f8a",
   "metadata": {},
   "source": [
    "<div>\n",
    "            <img src=\"range.png\"/width='600'>\n",
    "</div>"
   ]
  },
  {
   "cell_type": "markdown",
   "id": "2aba4274",
   "metadata": {
    "direction": "rtl"
   },
   "source": [
    "<span style='font-family:XB Niloofar;font-size:18px'>\n",
    "مزایا و معایب استفاده از محدوده:"
   ]
  },
  {
   "cell_type": "markdown",
   "id": "b892510e",
   "metadata": {
    "direction": "rtl"
   },
   "source": [
    "<span style='font-family:XB Niloofar;font-size:18px'>\n",
    "<font color='red'>مزایا:</font>  \n",
    " <span style='font-family:XB Niloofar;font-size:17px'>     \n",
    "\n",
    "1-سادگی: محاسبه و درک محدوده آسان است، و آن را راهی سریع برای به دست آوردن یک ایده کلی از تنوع در یک توزیع می کند \n",
    "       \n",
    "2-تفسیر: محدوده معیار واضحی از توزیع کل امتیازات در یک توزیع را ارائه می دهد \n",
    "       \n"
   ]
  },
  {
   "cell_type": "markdown",
   "id": "aa40beaf",
   "metadata": {
    "direction": "rtl"
   },
   "source": [
    "<span style='font-family:XB Niloofar;font-size:18px'>\n",
    "<font color='red'>معایب:</font>  \n",
    " <span style='font-family:XB Niloofar;font-size:17px'>     \n",
    "\n",
    "1-حساسیت به مقادیر نویزی: محدوده به مقادیر پرت یا نویزی حساس است زیرا فقط بزرگترین و کوچکترین امتیازها را در نظر می گیرد. یک مقدار شدید منفرد می‌تواند تا حد زیادی بر دامنه تأثیر بگذارد، حتی اگر بقیه امتیازها نزدیک به هم باشند  \n",
    "       \n",
    "2-وابستگی به حجم نمونه: با افزایش حجم نمونه، دامنه تمایل به افزایش دارد زیرا نمونه های بزرگتر به احتمال زیاد مقادیر شدید را شامل می شوند  \n",
    "       \n",
    "3-فقدان اطلاعات در مورد وسط توزیع: محدوده هیچ اطلاعاتی در مورد تنوع امتیازات بین مقادیر حداقل و حداکثر ارائه نمی دهد."
   ]
  },
  {
   "cell_type": "markdown",
   "id": "3eba826a",
   "metadata": {
    "direction": "rtl"
   },
   "source": [
    "<span style='font-family:XB Niloofar;font-size:25px'>\n",
    "واریانس :"
   ]
  },
  {
   "cell_type": "markdown",
   "id": "511154b8",
   "metadata": {
    "direction": "rtl"
   },
   "source": [
    "<span style='font-family:XB Niloofar;font-size:17px'>\n",
    "واریانس اندازه گیری پیچیده تری از تنوع است که تمام نمرات یک توزیع را در نظر می گیرد. برای درک واریانس، اجازه دهید گام به گام آن را بازسازی کنیم:"
   ]
  },
  {
   "cell_type": "markdown",
   "id": "933d4af1",
   "metadata": {
    "direction": "rtl"
   },
   "source": [
    "<span style='font-family:XB Niloofar;font-size:17px'>\n",
    "1-میانگین توزیع را محاسبه کنید  \n",
    "      \n",
    "2-برای به دست آوردن امتیاز انحراف، میانگین را از هر امتیاز کم کنید  \n",
    "3-برای حذف مقادیر منفی، هر امتیاز انحراف را توان2 کنید  \n",
    "4-مجذور نمرات انحراف را جمع کنید تا مجموع مربع ها به دست آید  \n",
    "5-مجموع مربع ها را بر تعداد امتیازات (برای جمعیت ها) یا تعداد امتیازات منهای یک (برای نمونه ها) تقسیم کنید تا واریانس به دست آید"
   ]
  },
  {
   "cell_type": "markdown",
   "id": "aab5b7b3",
   "metadata": {
    "direction": "ltr"
   },
   "source": [
    "<div>\n",
    "            <img src=\"variance.png\"/width='700'>\n",
    "</div>"
   ]
  },
  {
   "cell_type": "markdown",
   "id": "c1de189d",
   "metadata": {
    "direction": "rtl"
   },
   "source": [
    "<span style='font-family:XB Niloofar;font-size:25px'>\n",
    "ضعف واریانس :"
   ]
  },
  {
   "cell_type": "markdown",
   "id": "fe3daa4f",
   "metadata": {
    "direction": "rtl"
   },
   "source": [
    "<span style='font-family:XB Niloofar;font-size:17px'>\n",
    "ضعف اصلی واریانس این است که در واحدهای مربعی مقیاس اصلی بیان می شود که تفسیر آن دشوار است. به عنوان مثال، اگر نمرات اصلی بر حسب اینچ باشد، واریانس بر حسب اینچ مربع خواهد بود که به اندازه واحد اندازه گیری اصلی شهودی نیست."
   ]
  },
  {
   "cell_type": "markdown",
   "id": "0762dcf3",
   "metadata": {
    "direction": "rtl"
   },
   "source": [
    "<span style='font-family:XB Niloofar;font-size:17px'>\n",
    "مجموع مربعات (SS) یک جزء کلیدی در محاسبه واریانس است. این مجموع امتیازات انحراف مجذور است و مقدار کل تنوع در یک توزیع را نشان می دهد. مجموع مربعات مهم است زیرا در بسیاری از محاسبات آماری از جمله واریانس و انحراف معیار استفاده می شود.  \n",
    "       \n",
    "2^  SS=Σ(x-μ)"
   ]
  },
  {
   "cell_type": "markdown",
   "id": "e762db2a",
   "metadata": {
    "direction": "rtl"
   },
   "source": [
    "<span style='font-family:XB Niloofar;font-size:17px'>\n",
    "σ^2 = SS/N"
   ]
  },
  {
   "cell_type": "markdown",
   "id": "c0e06204",
   "metadata": {
    "direction": "rtl"
   },
   "source": [
    "<span style='font-family:XB Niloofar;font-size:25px'>\n",
    "درجه آزادی(Degree of freedom) :"
   ]
  },
  {
   "cell_type": "markdown",
   "id": "726dee66",
   "metadata": {
    "direction": "rtl"
   },
   "source": [
    "<span style='font-family:XB Niloofar;font-size:17px'>\n",
    "درجات آزادی (df) مفهومی در آمار است که به تعداد مقادیر یا کمیت‌های مستقلی اشاره می‌کند که می‌توانند در تجزیه و تحلیل بدون نقض هیچ گونه محدودیت یا محدودیتی متفاوت باشند. به عبارت دیگر، تعداد مقادیری است که در هنگام تخمین یک پارامتر آماری تغییر می‌کنند."
   ]
  },
  {
   "cell_type": "markdown",
   "id": "d9ac38bd",
   "metadata": {
    "direction": "rtl"
   },
   "source": [
    "<span style='font-family:XB Niloofar;font-size:17px'>\n",
    "مثال 1: نمونه داده ای متشکل از پنج عدد صحیح مثبت را در نظر بگیرید. مقادیر پنج عدد صحیح باید به طور متوسط ​​6 باشد. اگر چهار مورد در مجموعه داده {3، 8، 5 و 4} باشد، عدد پنجم باید 10 باشد. از آنجا که چهار عدد اول را می توان به صورت تصادفی انتخاب کرد، درجه آزادی چهار است."
   ]
  },
  {
   "cell_type": "markdown",
   "id": "f6505d1d",
   "metadata": {
    "direction": "rtl"
   },
   "source": [
    "<span style='font-family:XB Niloofar;font-size:17px'>\n",
    "هنگام محاسبه واریانس نمونه و انحراف استاندارد نمونه ، استفاده میکنیم از n-1 در مخرج به جای n ، این به دلیل مفهوم درجات آزادی است."
   ]
  },
  {
   "cell_type": "markdown",
   "id": "4c1d3de8",
   "metadata": {
    "direction": "rtl"
   },
   "source": [
    "<span style='font-family:XB Niloofar;font-size:17px'>\n",
    "در مورد واریانس نمونه و انحراف معیار، از میانگین نمونه استفاده می کنیم (x*) برای تخمین میانگین جمعیت (μ) میانگین نمونه از همان داده هایی که برای محاسبه واریانس و انحراف معیار استفاده می کنیم محاسبه می شود. در نتیجه، میانگین نمونه محدودیت یا محدودیتی را در تغییرپذیری داده ها ایجاد می کند."
   ]
  },
  {
   "cell_type": "markdown",
   "id": "504b467b",
   "metadata": {
    "direction": "rtl"
   },
   "source": [
    "<span style='font-family:XB Niloofar;font-size:25px'>\n",
    "انحراف معیار :"
   ]
  },
  {
   "cell_type": "markdown",
   "id": "a426a8a5",
   "metadata": {
    "direction": "rtl"
   },
   "source": [
    "<span style='font-family:XB Niloofar;font-size:17px'>\n",
    "با استفاده از انحراف معیار می‌توانیم میزان پراکندگی داده‌ها را در مجموعه‌ای از داده‌ها اندازه بگیریم. همچنین، با استفاده از آن می‌توانیم فاصله هر متغیر از میانگین و متغیرهای دیگر را به‌دست آوریم. در بیشتر موارد انحراف معیار با علامت σ شان داده می‌شود. معامله‌گران و تحلیل‌گران از این کمیت برای تعیین نوسانات و امنیت بازار استفاده می‌کنند. جذر واریانس، کمیت دیگری به نام انحراف معیار را به ما می‌دهد. \n"
   ]
  },
  {
   "cell_type": "markdown",
   "id": "3ae8a12c",
   "metadata": {
    "direction": "rtl"
   },
   "source": [
    "<span style='font-family:XB Niloofar;font-size:17px'>\n",
    "انحراف معیار، پراکندگی داده‌های اندازه‌گیری شده نسبت به مقدار میانگین داده‌ها را نشان می‌دهد. به بیان دیگر، انحراف معیار در مورد پراکندگی داده‌های اندازه‌گیری شده صحبت می‌کند. به عنوان مثال، فرض کنید آزمونی چهارگزینه‌ای متشکل از ۲۰ سوال دارید. پاسخ‌های شما به هر سوال، یکی از گزینه‌های ۱، ۲، ۳ یا ۴ است. انحراف معیار، پراکندگی پاسخ‌های شما به ۲۰ سوال را نشان می‌دهد"
   ]
  },
  {
   "cell_type": "markdown",
   "id": "70cad75a",
   "metadata": {
    "direction": "rtl"
   },
   "source": [
    "<span style='font-family:XB Niloofar;font-size:25px'>\n",
    "برای محاسبه انحراف معیار، مراحل زیر را طی می‌کنیم: "
   ]
  },
  {
   "cell_type": "markdown",
   "id": "69308cd7",
   "metadata": {
    "direction": "rtl"
   },
   "source": [
    "<span style='font-family:XB Niloofar;font-size:17px'>\n",
    "1-ابتدا، نمونه موردنظر را انتخاب می‌کنیم  \n",
    "      \n",
    "2-داده‌های لازم مربوط به هر نمونه را اندازه می‌گیریم  \n",
    "3-مقدار میانگین داده‌های اندازه‌گیری شده را محاسبه می‌کنیم.  \n",
    "4-داده اندازه‌گیری شده برای هر نمونه را از مقدار میانگین کم و مربع مقدار تفاضل را به‌دست می‌آوریم.  \n",
    "5-این کار را برای تمام نمونه‌ها انجام و مقدارهای به‌دست آمده را با یکدیگر جمع می‌کنیم  \n",
    "6-مقدار به‌دست آمده از مرحله ۵ را بر تعداد نمونه‌ها تقسیم می‌کنیم.  \n",
    "7-از مقدار به‌دست آمده از مرحله ۶ جذر می‌گیریم و انحراف معیار را به‌دست می‌آوریم.\n",
    "    \n",
    "\n"
   ]
  },
  {
   "cell_type": "markdown",
   "id": "7d3dbfab",
   "metadata": {},
   "source": [
    "<div>\n",
    "            <img src=\"Untitled.jpg\"/width='300'>\n",
    "</div>"
   ]
  },
  {
   "cell_type": "markdown",
   "id": "ec7d05af",
   "metadata": {
    "direction": "rtl"
   },
   "source": [
    "<span style='font-family:XB Niloofar;font-size:25px'>\n",
    "<font color='red'>تمرین</font>"
   ]
  },
  {
   "cell_type": "markdown",
   "id": "9a719428",
   "metadata": {
    "direction": "rtl"
   },
   "source": [
    "<span style='font-family:XB Niloofar;font-size:17px'>\n",
    "1-در باغی، ۳۹ نوع گیاه وجود دارند. ارتفاع (برحسب سانتی‌متر) ۵ گیاهی که به صورت تصادفی انتخاب شده‌اند برابر ۳۸، ۵۱، ۴۶، ۷۹ و ۵۷ سانتی‌متر است. انحراف معیار ارتفاع گیاهان چه مقدار است؟"
   ]
  },
  {
   "cell_type": "markdown",
   "id": "78d4d872",
   "metadata": {
    "direction": "rtl"
   },
   "source": [
    "<span style='font-family:XB Niloofar;font-size:17px'>\n",
    "2-تفاوت واریانس و انحراف معیار را با توجه به توضیحات داده شده به صورت تحلیلی بیان کنید "
   ]
  },
  {
   "cell_type": "code",
   "execution_count": null,
   "id": "c6073d7a",
   "metadata": {},
   "outputs": [],
   "source": []
  }
 ],
 "metadata": {
  "kernelspec": {
   "display_name": "Python 3 (ipykernel)",
   "language": "python",
   "name": "python3"
  },
  "language_info": {
   "codemirror_mode": {
    "name": "ipython",
    "version": 3
   },
   "file_extension": ".py",
   "mimetype": "text/x-python",
   "name": "python",
   "nbconvert_exporter": "python",
   "pygments_lexer": "ipython3",
   "version": "3.11.5"
  }
 },
 "nbformat": 4,
 "nbformat_minor": 5
}
