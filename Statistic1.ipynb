{
 "cells": [
  {
   "cell_type": "markdown",
   "id": "d40fa4d4",
   "metadata": {
    "direction": "ltr"
   },
   "source": [
    "# Descriptive Statistics"
   ]
  },
  {
   "cell_type": "markdown",
   "id": "9d41314c",
   "metadata": {
    "direction": "rtl"
   },
   "source": [
    "<span style='font-family:XB Niloofar;font-size:17px'>\n",
    "در این بخش به بررسی مفهوم گرایش مرکزی و اهمیت آن در درک و جمع بندی داده ها می پردازیم. همچنین سه معیار اصلی گرایش مرکزی را معرفی خواهیم کرد: حالت، میانه و میانگین."
   ]
  },
  {
   "cell_type": "markdown",
   "id": "bb7a6529",
   "metadata": {
    "direction": "rtl"
   },
   "source": [
    "<span style='font-family:XB Niloofar;font-size:17px'>\n",
    "گرایش مرکزی به مفهوم شناسایی یک مقدار واحد اشاره دارد که «مرکز» یا «وسط» یک مجموعه داده را نشان می‌دهد. این روشی را برای توصیف مقدار معمولی یا مرکزی که نقاط داده در اطراف آن تمایل به خوشه بندی دارند، ارائه می دهد."
   ]
  },
  {
   "cell_type": "markdown",
   "id": "05c02143",
   "metadata": {
    "direction": "rtl"
   },
   "source": [
    "<span style='font-family:XB Niloofar;font-size:17px'>\n",
    "سه معیار اصلی برای گرایش مرکزی وجود دارد: مد، میانه و میانگین. هر اندازه گیری ویژگی های خاص خود را دارد و برای انواع مختلف داده ها و موقعیت ها مناسب است"
   ]
  },
  {
   "cell_type": "markdown",
   "id": "62c889a4",
   "metadata": {
    "direction": "rtl"
   },
   "source": [
    "<span style='font-family:XB Niloofar;font-size:17px'>\n",
    "مد: مد مقداری است که بیشتر در یک مجموعه داده ظاهر می شود. به ویژه برای داده های طبقه بندی شده یا گسسته مفید است."
   ]
  },
  {
   "cell_type": "markdown",
   "id": "e1dc1f54",
   "metadata": {
    "direction": "rtl"
   },
   "source": [
    "<span style='font-family:XB Niloofar;font-size:17px'>\n",
    "میانه: زمانی که نقاط داده به ترتیب صعودی یا نزولی مرتب شده اند، میانه مقدار میانی است. در مقایسه با میانگین، حساسیت کمتری به مقادیر پرت دارد"
   ]
  },
  {
   "cell_type": "markdown",
   "id": "ba235a85",
   "metadata": {
    "direction": "rtl"
   },
   "source": [
    "<span style='font-family:XB Niloofar;font-size:17px'>\n",
    "میانگین: میانگین با جمع کردن تمام مقادیر یک مجموعه داده و تقسیم بر تعداد کل مقادیر محاسبه می شود. این متداول ترین معیار سنجش گرایش مرکزی برای داده های پیوسته است"
   ]
  },
  {
   "cell_type": "markdown",
   "id": "94911fde",
   "metadata": {
    "direction": "rtl"
   },
   "source": [
    "<span style='font-family:XB Niloofar;font-size:18px'>\n",
    "مراحل تعیین مد :"
   ]
  },
  {
   "cell_type": "markdown",
   "id": "2075d825",
   "metadata": {
    "direction": "rtl"
   },
   "source": [
    "<span style='font-family:XB Niloofar;font-size:17px'>\n",
    "برای پیدا کردن حالت یک مجموعه داده، این مراحل را دنبال کنید :"
   ]
  },
  {
   "cell_type": "markdown",
   "id": "7c2f8254",
   "metadata": {
    "direction": "rtl"
   },
   "source": [
    "<span style='font-family:XB Niloofar;font-size:17px'>\n",
    "1- سازماندهی داده ها: مقادیر موجود در مجموعه داده را به ترتیب سیستماتیک مرتب کنید (به عنوان مثال، از کمترین به بزرگترین یا بر اساس دسته ها)  \n",
    "      \n",
    "2-تعداد دفعات: شمارش کنید که هر مقدار چند بار در مجموعه داده ظاهر می شود   \n",
    "3-شناسایی مقدار با بالاترین فرکانس: مقدار یا مقادیر با بیشترین تعداد فرکانس، حالت(های) مجموعه داده است."
   ]
  },
  {
   "cell_type": "markdown",
   "id": "83a645c2",
   "metadata": {
    "direction": "rtl"
   },
   "source": [
    "<span style='font-family:XB Niloofar;font-size:19px'>\n",
    "<font color='red'>تمرین</font>"
   ]
  },
  {
   "cell_type": "markdown",
   "id": "e7187761",
   "metadata": {
    "direction": "rtl"
   },
   "source": [
    "<span style='font-family:XB Niloofar;font-size:17px'>\n",
    "مد مجموعه داده زیر را پیدا کنید: 5، 2، 8، 5، 1، 5، 3، 2، 5"
   ]
  },
  {
   "cell_type": "markdown",
   "id": "8577c14a",
   "metadata": {
    "direction": "rtl"
   },
   "source": [
    "<span style='font-family:XB Niloofar;font-size:18px'>\n",
    "فواید و معایب استفاده از مد:"
   ]
  },
  {
   "cell_type": "markdown",
   "id": "b977c1b0",
   "metadata": {
    "direction": "rtl"
   },
   "source": [
    "<span style='font-family:XB Niloofar;font-size:18px'>\n",
    "<font color='red'>فواید:</font>  \n",
    " <span style='font-family:XB Niloofar;font-size:17px'>     \n",
    "\n",
    "1-مد قابل درک و محاسبه آسان است  \n",
    "       \n",
    "2-برای داده های طبقه بندی شده یا گسسته مفید است.  \n",
    "       \n",
    "3-مد تحت تأثیر مقادیر نویزی قرار نمی گیرد"
   ]
  },
  {
   "cell_type": "markdown",
   "id": "af8197e5",
   "metadata": {
    "direction": "rtl"
   },
   "source": [
    "<span style='font-family:XB Niloofar;font-size:18px'>\n",
    "<font color='red'>معایب:</font>  \n",
    " <span style='font-family:XB Niloofar;font-size:17px'>     \n",
    "\n",
    "1-مد ممکن است وجود نداشته باشد یا منحصر به فرد نباشد (به عنوان مثال، مد یا مد های متعدد وجود ندارد)  \n",
    "       \n",
    "2-بزرگی مقادیر را در نظر نمی گیرد، فقط فرکانس آنها را در نظر می گیرد.  \n",
    "       \n",
    "3-اگر فرکانس ها به طور مساوی توزیع شوند، مد ممکن است نماینده خوبی برای مجموعه داده نباشد"
   ]
  },
  {
   "cell_type": "markdown",
   "id": "348b2b07",
   "metadata": {
    "direction": "rtl"
   },
   "source": [
    "<span style='font-family:XB Niloofar;font-size:35px'>\n",
    "میانه:"
   ]
  },
  {
   "cell_type": "markdown",
   "id": "a0877505",
   "metadata": {
    "direction": "rtl"
   },
   "source": [
    "<span style='font-family:XB Niloofar;font-size:17px'>\n",
    "زمانی که مقادیر به ترتیب صعودی یا نزولی مرتب شوند، میانه مقدار میانی در یک مجموعه داده است. اگر مجموعه داده دارای تعداد فرد باشد، میانه مقدار وسط است. اگر مجموعه داده دارای تعداد زوج باشد، میانه میانگین دو مقدار میانی است"
   ]
  },
  {
   "cell_type": "markdown",
   "id": "68b122da",
   "metadata": {
    "direction": "rtl"
   },
   "source": [
    "<span style='font-family:XB Niloofar;font-size:18px'>\n",
    "مراحل تعیین میانه :"
   ]
  },
  {
   "cell_type": "markdown",
   "id": "e10d30e7",
   "metadata": {
    "direction": "rtl"
   },
   "source": [
    "<span style='font-family:XB Niloofar;font-size:17px'>\n",
    "روش یافتن میانه به فرد یا زوج بودن تعداد کل مقادیر در مجموعه داده بستگی دارد.  \n",
    "      \n",
    "وقتی تعداد کل امتیازها فرد باشد:  \n",
    "      \n",
    "1-مقادیر را به ترتیب صعودی یا نزولی مرتب کنید  \n",
    "      \n",
    "2-با استفاده از فرمول موقعیت وسط را مشخص کنید n+1/2 که n تعداد کل مقادیر است  \n",
    "      \n",
    "3-میانه مقدار در موقعیت وسط است.\n",
    " "
   ]
  },
  {
   "cell_type": "markdown",
   "id": "203041c0",
   "metadata": {
    "direction": "rtl"
   },
   "source": [
    "<span style='font-family:XB Niloofar;font-size:19px'>\n",
    "<font color='red'>تمرین</font>"
   ]
  },
  {
   "cell_type": "markdown",
   "id": "737f93e7",
   "metadata": {
    "direction": "rtl"
   },
   "source": [
    "<span style='font-family:XB Niloofar;font-size:17px'>\n",
    "میانه مجموعه داده زیر را بیابید: 4، 7، 2، 9، 3، 8"
   ]
  },
  {
   "cell_type": "markdown",
   "id": "ffcd3d63",
   "metadata": {
    "direction": "rtl"
   },
   "source": [
    "<span style='font-family:XB Niloofar;font-size:18px'>\n",
    "فواید و معایب استفاده از میانه:"
   ]
  },
  {
   "cell_type": "markdown",
   "id": "4da05609",
   "metadata": {
    "direction": "rtl"
   },
   "source": [
    "<span style='font-family:XB Niloofar;font-size:18px'>\n",
    "<font color='red'>فواید:</font>  \n",
    " <span style='font-family:XB Niloofar;font-size:17px'>     \n",
    "\n",
    "1-میانه کمتر از میانگین تحت تأثیر مقادیر نویزی قرار می گیرد \n",
    "       \n",
    "2-می توان آن را با داده های ترتیبی (داده های رتبه بندی شده) و داده های بازه/نسبت استفاده کرد  \n",
    "       \n",
    "3-میانه منحصر به فرد است و همیشه برای هر مجموعه داده وجود دارد"
   ]
  },
  {
   "cell_type": "markdown",
   "id": "2e666661",
   "metadata": {
    "direction": "rtl"
   },
   "source": [
    "<span style='font-family:XB Niloofar;font-size:18px'>\n",
    "<font color='red'>معایب:</font>  \n",
    " <span style='font-family:XB Niloofar;font-size:17px'>     \n",
    "\n",
    "1-میانه مقادیر واقعی نقاط داده را در نظر نمی گیرد، فقط موقعیت آنها را در نظر می گیرد  \n",
    "       \n",
    "2-اگر داده‌ها به‌شدت منحرف باشند یا دامنه وسیعی داشته باشند، ممکن است نماینده خوبی برای مجموعه داده نباشد  \n",
    "       \n",
    "3-اگر داده ها از قبل مرتب نشده باشند، محاسبه میانه برای مجموعه داده های بزرگ می تواند زمان بر باشد"
   ]
  },
  {
   "cell_type": "markdown",
   "id": "696bd555",
   "metadata": {
    "direction": "rtl"
   },
   "source": [
    "<span style='font-family:XB Niloofar;font-size:35px'>\n",
    "میانگین:"
   ]
  },
  {
   "cell_type": "markdown",
   "id": "d7807e98",
   "metadata": {
    "direction": "rtl"
   },
   "source": [
    "<span style='font-family:XB Niloofar;font-size:17px'>\n",
    "میانگین که به عنوان میانگین حسابی نیز شناخته می شود، مجموع تمام مقادیر یک مجموعه داده تقسیم بر تعداد کل مقادیر است. این نشان دهنده گرایش مرکزی داده ها است و رایج ترین معیار مورد استفاده برای سنجش گرایش مرکزی است."
   ]
  },
  {
   "cell_type": "markdown",
   "id": "09e593a9",
   "metadata": {
    "direction": "rtl"
   },
   "source": [
    "<span style='font-family:XB Niloofar;font-size:17px'>\n",
    "فرمول محاسبه میانگین بستگی به این دارد که داده ها از یک نمونه باشد یا یک جامعه:"
   ]
  },
  {
   "cell_type": "markdown",
   "id": "b782dc42",
   "metadata": {},
   "source": [
    "<div>\n",
    "            <img src=\"Mean-Formula-1.jpg\"/width='500'>\n",
    "</div>"
   ]
  },
  {
   "cell_type": "markdown",
   "id": "588594e0",
   "metadata": {
    "direction": "rtl"
   },
   "source": [
    "<span style='font-family:XB Niloofar;font-size:18px'>\n",
    "مزایا و معایب استفاده از میانگین:"
   ]
  },
  {
   "cell_type": "markdown",
   "id": "eef35a92",
   "metadata": {
    "direction": "rtl"
   },
   "source": [
    "<span style='font-family:XB Niloofar;font-size:18px'>\n",
    "<font color='red'>مزایا:</font>  \n",
    " <span style='font-family:XB Niloofar;font-size:17px'>     \n",
    "\n",
    "1-میانگین مقادیر واقعی هر نقطه داده را در نظر می گیرد و معیار دقیق تری از تمایل مرکزی ارائه می دهد \n",
    "       \n",
    "2-برای داده های بازه/نسبت مفید است و می تواند در تجزیه و تحلیل های آماری بیشتر استفاده شود.  \n",
    "       \n",
    "3-میانگین به تغییرات در هر مقدار در مجموعه داده حساس است"
   ]
  },
  {
   "cell_type": "markdown",
   "id": "cfbc928a",
   "metadata": {
    "direction": "rtl"
   },
   "source": [
    "<span style='font-family:XB Niloofar;font-size:18px'>\n",
    "<font color='red'>معایب:</font>  \n",
    " <span style='font-family:XB Niloofar;font-size:17px'>     \n",
    "\n",
    "1-میانگین به شدت تحت تأثیر مقادیر نویزی است که می تواند آن را کمتر نماینده مجموعه داده باشد  \n",
    "       \n",
    "2-ممکن است معیار مناسبی برای توزیع‌ها یا مجموعه داده‌های بسیار ناهنجار با محدوده بزرگ نباشد  \n",
    "       \n",
    "3-میانگین را نمی توان برای داده های طبقه ای یا ترتیبی محاسبه کرد"
   ]
  },
  {
   "cell_type": "markdown",
   "id": "fbd5826c",
   "metadata": {
    "direction": "rtl"
   },
   "source": [
    "<span style='font-family:XB Niloofar;font-size:35px'>\n",
    "مقایسه کلی بین مد، میانه و میانگین :"
   ]
  },
  {
   "cell_type": "markdown",
   "id": "e0eba23c",
   "metadata": {
    "direction": "rtl"
   },
   "source": [
    "<span style='font-family:XB Niloofar;font-size:17px'>\n",
    "مد، میانه و میانگین همگی معیارهای گرایش مرکزی هستند، اما هر کدام ویژگی های منحصر به فردی دارند و برای انواع مختلف داده ها و توزیع ها مناسب هستند."
   ]
  },
  {
   "cell_type": "markdown",
   "id": "ce402435",
   "metadata": {
    "direction": "rtl"
   },
   "source": [
    "<span style='font-family:XB Niloofar;font-size:17px'>\n",
    "مد: مد متداول‌ترین مقدار در یک مجموعه داده است. این تنها معیار گرایش مرکزی است که می تواند با داده های اسمی استفاده شود. با این حال، ممکن است وجود نداشته باشد یا برای برخی از مجموعه داده ها منحصر به فرد نباشد"
   ]
  },
  {
   "cell_type": "markdown",
   "id": "373b25bf",
   "metadata": {
    "direction": "rtl"
   },
   "source": [
    "<span style='font-family:XB Niloofar;font-size:17px'>\n",
    "میانه: میانه مقدار وسطی است که مجموعه داده مرتب می شود. کمتر از میانگین تحت تأثیر مقادیر پرت قرار می گیرد و می تواند با داده های ترتیبی استفاده شود. با این حال، مقادیر واقعی نقاط داده را در نظر نمی گیرد."
   ]
  },
  {
   "cell_type": "markdown",
   "id": "bda5cfdc",
   "metadata": {
    "direction": "rtl"
   },
   "source": [
    "<span style='font-family:XB Niloofar;font-size:17px'>\n",
    "میانگین: میانگین مجموع همه مقادیر تقسیم بر تعداد کل مقادیر است. این متداول ترین معیار برای سنجش گرایش مرکزی است و مقادیر واقعی هر نقطه داده را در نظر می گیرد. با این حال، به نقاط پرت حساس است و فقط می تواند با داده های بازه ای یا نسبتی استفاده شود"
   ]
  },
  {
   "cell_type": "markdown",
   "id": "cd91272d",
   "metadata": {
    "direction": "rtl"
   },
   "source": [
    "<span style='font-family:XB Niloofar;font-size:25px'>\n"
   ]
  }
 ],
 "metadata": {
  "kernelspec": {
   "display_name": "Python 3 (ipykernel)",
   "language": "python",
   "name": "python3"
  },
  "language_info": {
   "codemirror_mode": {
    "name": "ipython",
    "version": 3
   },
   "file_extension": ".py",
   "mimetype": "text/x-python",
   "name": "python",
   "nbconvert_exporter": "python",
   "pygments_lexer": "ipython3",
   "version": "3.11.5"
  }
 },
 "nbformat": 4,
 "nbformat_minor": 5
}
