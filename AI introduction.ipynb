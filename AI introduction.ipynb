{
 "cells": [
  {
   "cell_type": "markdown",
   "id": "953d1af4",
   "metadata": {
    "direction": "rtl"
   },
   "source": [
    "# مقدمه یادگیری ماشین"
   ]
  },
  {
   "cell_type": "markdown",
   "id": "44ea6b17",
   "metadata": {
    "direction": "rtl"
   },
   "source": [
    "<span style='font-family:XB Niloofar;font-size:18px'>\n",
    "در ابتدا برای شروع کار ما یک سری مفاهیم کلی را تعریف میکنیم :"
   ]
  },
  {
   "cell_type": "markdown",
   "id": "203f2d35",
   "metadata": {
    "direction": "rtl"
   },
   "source": [
    "<span style='font-family:XB Niloofar;font-size:19px'>  \n",
    "دیتا:  \n",
    "   \n",
    "<span style='font-family:XB Niloofar;font-size:16px'>  \n",
    "  \n",
    "هر مجموعه ای از اطلاعات تبدیل شده به فرم دیجیتال  \n",
    "<span style='font-family:XB Niloofar;font-size:19px'>  \n",
    "سیگنال:  \n",
    "   \n",
    "<span style='font-family:XB Niloofar;font-size:16px'>  \n",
    "  \n",
    "یک سیگنال نحوه ارتباط شما را نشان می دهد: بگویید رادیو AM/FM، دود، حرکت دست و غیره.\n",
    "\n",
    "توجه داشته باشید که داده نشان دهنده اطلاعات منتقل شده در سیگنال است. اما ممکن است داده ها نیز ذخیره شوند. بنابراین یک سیگنال ممکن است اطلاعات (داده) را منتقل کند، اما همه داده ها سیگنال دهی نمی شوند. داده ها معمولاً با ذخیره سازی دیجیتالی اطلاعات مرتبط هستند. سیگنال از سوی دیگر نیازی به هیچ اطلاعاتی ندارد. امکان استخراج اطلاعات از برخی سیگنال ها و ذخیره سازی برای پردازش بیشتر وجود دارد. به عنوان مثال، نویز سفیدی که از هر منبعی (مانند نویز حرارتی از دستگاه های الکترونیکی، صدای ترافیک و غیره) خارج می شود، یک سیگنال است، اما ممکن است بسته به موضوع مورد علاقه به داده های مفید تبدیل شود یا نباشد.  \n",
    "\n",
    "<span style='font-family:XB Niloofar;font-size:19px'>  \n",
    "نویز:  \n",
    "   \n",
    "<span style='font-family:XB Niloofar;font-size:16px'>  \n",
    "  \n",
    "سیگنال هایی که هیچ رابطه علی با تابع هدف ندارند.  \n",
    "\n",
    "\n",
    "<span style='font-family:XB Niloofar;font-size:19px'>  \n",
    "دیتا های منظم:  \n",
    "   \n",
    "<span style='font-family:XB Niloofar;font-size:16px'>  \n",
    "  \n",
    "داده‌ها به هر شکلی که در قالب خطی، جدولی و سازمان‌یافته تولید، جمع‌آوری و تجزیه و تحلیل شوند، داده‌های ساختاریافته در نظر گرفته می‌شوند، به‌عنوان مثال، داده‌های تجاری تولید شده در سازمان‌ها در برنامه‌های سنتی معمولاً داده‌های ساختاری هستند.  \n",
    "      \n",
    "<span style='font-family:XB Niloofar;font-size:19px'>  \n",
    "دیتا های نامنظم:  \n",
    "   \n",
    "<span style='font-family:XB Niloofar;font-size:16px'>  \n",
    "  \n",
    "  \n",
    "\n",
    "      \n",
    "داده‌های بدون ساختار به عنوان نوع داده‌ای تعریف می‌شود که می‌تواند منشأ چندگانه از فایل‌های دیجیتال آنلاین، اسناد متنی، پیامک، ویدیو، تصاویر، صدا، حسگرها، پینگ‌ها و غیره داشته باشد - هر چیزی که در یک ردیف، ستون یا در دسترس نیست. فرمت جدول بیشتر داده‌هایی که امروزه تولید می‌شوند، داده‌های بدون ساختار هستند و یکی از نیروهای محرکه ظهور هوش مصنوعی هستند  \n",
    "\n",
    "    "
   ]
  },
  {
   "cell_type": "markdown",
   "id": "d5518d96",
   "metadata": {
    "direction": "rtl"
   },
   "source": [
    "<span style='font-family:XB Niloofar;font-size:19px'>  \n",
    "پایگاه داده:  \n",
    "   \n",
    "<span style='font-family:XB Niloofar;font-size:16px'>  \n",
    "  \n",
    "پایگاه داده یک مکان ذخیره سازی است که داده های ساخت یافته را در خود جای می دهد. ما معمولاً به یک پایگاه داده روی یک کامپیوتر فکر می کنیم که داده ها را در خود نگه می دارد که به طرق مختلف به راحتی قابل دسترسی است. مسلماً، به لطف تمام داده هایی که در مورد شما ذخیره می کند، می توانید گوشی هوشمند خود را به تنهایی یک پایگاه داده در نظر بگیرید"
   ]
  },
  {
   "cell_type": "markdown",
   "id": "703e53d8",
   "metadata": {
    "direction": "rtl"
   },
   "source": [
    "<span style='font-family:XB Niloofar;font-size:19px'>  \n",
    "یادگیری ماشین:  \n",
    "   \n",
    "<span style='font-family:XB Niloofar;font-size:16px'>  \n",
    "  \n",
    "حوزه‌ای از هوش مصنوعی بر واداشتن ماشین‌ها به کار بدون برنامه‌ریزی برای انجام این کار متمرکز است. ماشین‌ها از الگوهایی که تشخیص می‌دهند «یاد می‌گیرند» و رفتار خود را بر اساس آن تنظیم می‌کنند."
   ]
  },
  {
   "cell_type": "markdown",
   "id": "51167e3c",
   "metadata": {
    "direction": "ltr"
   },
   "source": [
    "<div>\n",
    "            <img src=\"ml-dl-ai.png\"/width='500'>\n",
    "</div>"
   ]
  },
  {
   "cell_type": "markdown",
   "id": "aecc6c6e",
   "metadata": {
    "direction": "rtl"
   },
   "source": [
    "<span style='font-family:XB Niloofar;font-size:19px'>  \n",
    "داده کاوی:  \n",
    "   \n",
    "<span style='font-family:XB Niloofar;font-size:16px'>  \n",
    "  \n",
    "فرآیندی که طی آن الگوها در مجموعه های بزرگی از داده ها با هدف استخراج اطلاعات مفید از آن کشف می شوند.\n",
    "\n",
    "با یادگیری ماشینی متفاوت است. داده کاوی برای استخراج قوانین از مقادیر زیادی داده طراحی شده است، در حالی که یادگیری ماشینی به کامپیوتر می آموزد که چگونه پارامترهای داده شده را یاد بگیرد و درک کند. یا به بیان دیگر، داده کاوی صرفاً روشی برای تحقیق برای تعیین یک نتیجه خاص بر اساس کل داده های جمع آوری شده است. در روی دیگر سکه، یادگیری ماشینی داریم که سیستمی را برای انجام وظایف پیچیده آموزش می دهد و از داده ها و تجربیات جمع آوری شده برای هوشمندتر شدن استفاده می کند.\n",
    "\n",
    "به طور کلی، داده کاوی فرآیند کامپیوتر محور کاوش مجموعه داده ها، مشخص کردن روندها و ناهنجاری های کلیدی، و متعاقباً تجزیه و تحلیل این یافته ها برای نتیجه گیری و تصمیم گیری بهتر است. داده کاوی در صنایع بی شماری به عنوان ابزاری برای بهبود کارایی، توسعه بینش های حیاتی مصرف کننده و نوآوری در مدل های تجاری موجود استفاده می شود."
   ]
  },
  {
   "cell_type": "markdown",
   "id": "4413cc67",
   "metadata": {},
   "source": [
    "<div>\n",
    "            <img src=\"data-mining-Venn-diagram.png\"/width='500'>\n",
    "</div>"
   ]
  },
  {
   "cell_type": "markdown",
   "id": "b6f7a1fb",
   "metadata": {
    "direction": "rtl"
   },
   "source": [
    "<span style='font-family:XB Niloofar;font-size:19px'>  \n",
    "پارامتر:  \n",
    "   \n",
    "<span style='font-family:XB Niloofar;font-size:16px'>  \n",
    "  \n",
    "هر مشخصه ای که می تواند برای کمک به تعریف یا طبقه بندی یک سیستم استفاده شود. در هوش مصنوعی، از آنها برای روشن کردن دقیقاً آنچه الگوریتم باید به دنبال شناسایی داده های مهم در هنگام انجام عملکرد هدف خود باشد استفاده می شود"
   ]
  },
  {
   "cell_type": "markdown",
   "id": "2e0b8a21",
   "metadata": {
    "direction": "rtl"
   },
   "source": [
    "<span style='font-family:XB Niloofar;font-size:19px'>  \n",
    "هایپر پارامتر:  \n",
    "   \n",
    "<span style='font-family:XB Niloofar;font-size:16px'>  \n",
    "  \n",
    "گاهی اوقات به جای پارامتر استفاده می شود، اگرچه این اصطلاحات تفاوت های ظریفی دارند. هایپرپارامترها مقادیری هستند که بر نحوه یادگیری مدل شما تأثیر می گذارند. آنها معمولاً به صورت دستی خارج از مدل تنظیم می شوند"
   ]
  },
  {
   "cell_type": "markdown",
   "id": "4cef0ad8",
   "metadata": {},
   "source": [
    "<div>\n",
    "            <img src=\"parameter-hyperparameter.png\"/width='500'>\n",
    "</div>"
   ]
  },
  {
   "cell_type": "markdown",
   "id": "fbf3b0fb",
   "metadata": {
    "direction": "rtl"
   },
   "source": [
    "<span style='font-family:XB Niloofar;font-size:19px'>  \n",
    "استخراج ویژگی:  \n",
    "   \n",
    "<span style='font-family:XB Niloofar;font-size:16px'>  \n",
    "  \n",
    "فرآیندی که در آن داده‌هایی که برای پردازش بیش از حد بزرگ هستند به یک مجموعه نمایش کاهش یافته از ویژگی‌ها مانند ویژگی‌های خودرو تبدیل می‌شود: سرعت، تعداد چرخ‌ها، قیمت و غیره."
   ]
  },
  {
   "cell_type": "markdown",
   "id": "b1f45ff2",
   "metadata": {
    "direction": "rtl"
   },
   "source": [
    "<span style='font-family:XB Niloofar;font-size:19px'>  \n",
    "یادگیری با نظارت:  \n",
    "   \n",
    "<span style='font-family:XB Niloofar;font-size:16px'>  \n",
    "  \n",
    "نوعی یادگیری ماشینی که در آن ورودی و نظارت انسانی بخشی جدایی ناپذیر از فرآیند یادگیری ماشینی به طور مداوم است. در یادگیری نظارت شده، یک نتیجه واضح برای داده کاوی ماشین وجود دارد و عملکرد هدف آن دستیابی به این نتیجه است، نه چیز بیشتر"
   ]
  },
  {
   "cell_type": "markdown",
   "id": "fe87ef1c",
   "metadata": {
    "direction": "rtl"
   },
   "source": [
    "<span style='font-family:XB Niloofar;font-size:19px'>  \n",
    "برچسب:  \n",
    "   \n",
    "<span style='font-family:XB Niloofar;font-size:16px'>  \n",
    "  \n",
    "بخشی از داده های آموزشی که خروجی مورد نظر را برای آن قطعه خاص از داده مشخص می کند."
   ]
  },
  {
   "cell_type": "markdown",
   "id": "e0c40191",
   "metadata": {
    "direction": "rtl"
   },
   "source": [
    "<span style='font-family:XB Niloofar;font-size:19px'>  \n",
    "یادگیری بدون نظارت:  \n",
    "   \n",
    "<span style='font-family:XB Niloofar;font-size:16px'>  \n",
    "  \n",
    "دسته ای از الگوریتم های یادگیری ماشینی که الگوهای موجود در داده ها را بدون اطلاع از نتایج یاد می گیرند. در اینجا، دستگاه با داده‌های کاملاً بدون برچسب ارائه می‌شود، سپس از آن خواسته می‌شود الگوهای ذاتی را در داده‌ها بیابد یا نتیجه‌گیری خود را از داده‌ها بگیرد."
   ]
  },
  {
   "cell_type": "markdown",
   "id": "e6b50865",
   "metadata": {
    "direction": "rtl"
   },
   "source": [
    "<span style='font-family:XB Niloofar;font-size:19px'>  \n",
    "رگرسیون:  \n",
    "   \n",
    "<span style='font-family:XB Niloofar;font-size:16px'>  \n",
    "  \n",
    "یک معیار آماری که برای تعیین مقدار روابط بین متغیرهای وابسته و مستقل استفاده می شود"
   ]
  },
  {
   "cell_type": "markdown",
   "id": "8e0a6bc7",
   "metadata": {
    "direction": "rtl"
   },
   "source": [
    "<span style='font-family:XB Niloofar;font-size:19px'>  \n",
    "طبقه بندی:  \n",
    "   \n",
    "<span style='font-family:XB Niloofar;font-size:16px'>  \n",
    "  \n",
    "طبقه بندی وظیفه پیش بینی یک برچسب کلاس گسسته است. رگرسیون وظیفه پیش بینی یک کمیت پیوسته است."
   ]
  },
  {
   "cell_type": "markdown",
   "id": "77551af0",
   "metadata": {},
   "source": [
    "<div>\n",
    "            <img src=\"regression-classification.png\"/width='500'>\n",
    "</div>"
   ]
  },
  {
   "cell_type": "markdown",
   "id": "1e916ba0",
   "metadata": {
    "direction": "rtl"
   },
   "source": [
    "<span style='font-family:XB Niloofar;font-size:19px'>  \n",
    "خوشه بندی:  \n",
    "   \n",
    "<span style='font-family:XB Niloofar;font-size:16px'>  \n",
    "  \n",
    "در یادگیری ماشینی، وظیفه بدون نظارت گروه بندی مجموعه ای از اشیاء به طوری که اشیاء درون یک گروه (که یک خوشه نامیده می شود) به یکدیگر شباهت بیشتری داشته باشند تا آنها در گروه های دیگر"
   ]
  },
  {
   "cell_type": "markdown",
   "id": "4c201738",
   "metadata": {},
   "source": [
    "<div>\n",
    "            <img src=\"supervised-unsupervised.jpeg\"/width='500'>\n",
    "</div>"
   ]
  },
  {
   "cell_type": "markdown",
   "id": "f90ee769",
   "metadata": {
    "direction": "rtl"
   },
   "source": [
    "<span style='font-family:XB Niloofar;font-size:19px'>  \n",
    "یادگیری تقویتی:  \n",
    "   \n",
    "<span style='font-family:XB Niloofar;font-size:16px'>  \n",
    "  \n",
    "نوعی از یادگیری ماشینی که در آن ماشین‌ها برای دستیابی به عملکرد هدف خود از طریق فرآیند آزمایش و دریافت پاداش دریافت تقویت مثبت زمانی که فرآیندهای آن نتیجه دلخواه را ایجاد می‌کنند و هنگامی که این کار را نمی‌کنند، تقویت منفی را دریافت می‌کنند. این از یادگیری نظارت شده متمایز می شود، که برای هر اقدام فردی که الگوریتم انجام می دهد نیاز به حاشیه نویسی دارد."
   ]
  },
  {
   "cell_type": "markdown",
   "id": "ae166ca4",
   "metadata": {},
   "source": [
    "<div>\n",
    "            <img src=\"ml-categories.png\"/width='500'>\n",
    "</div>"
   ]
  },
  {
   "cell_type": "markdown",
   "id": "9b76b23d",
   "metadata": {
    "direction": "rtl"
   },
   "source": [
    "<span style='font-family:XB Niloofar;font-size:19px'>  \n",
    "یادگیری عمیق:  \n",
    "   \n",
    "<span style='font-family:XB Niloofar;font-size:16px'>  \n",
    "  \n",
    "زیرمجموعه ای از یادگیری ماشینی که از الگوریتم های تخصصی برای مدل سازی و درک ساختارها و روابط پیچیده بین داده ها و مجموعه داده ها استفاده می کند"
   ]
  },
  {
   "cell_type": "markdown",
   "id": "4739c417",
   "metadata": {},
   "source": [
    "<div>\n",
    "            <img src=\"deep-learning.png\"/width='500'>\n",
    "</div>"
   ]
  },
  {
   "cell_type": "code",
   "execution_count": null,
   "id": "8398c8ab",
   "metadata": {},
   "outputs": [],
   "source": []
  }
 ],
 "metadata": {
  "kernelspec": {
   "display_name": "Python 3 (ipykernel)",
   "language": "python",
   "name": "python3"
  },
  "language_info": {
   "codemirror_mode": {
    "name": "ipython",
    "version": 3
   },
   "file_extension": ".py",
   "mimetype": "text/x-python",
   "name": "python",
   "nbconvert_exporter": "python",
   "pygments_lexer": "ipython3",
   "version": "3.11.5"
  }
 },
 "nbformat": 4,
 "nbformat_minor": 5
}
