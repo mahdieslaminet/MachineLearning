{
 "cells": [
  {
   "cell_type": "markdown",
   "id": "3bcaf87e",
   "metadata": {},
   "source": [
    "# Training, Validation, and Testing Sets"
   ]
  },
  {
   "cell_type": "markdown",
   "id": "c5f46729",
   "metadata": {
    "direction": "rtl"
   },
   "source": [
    "<span style='font-family:XB Niloofar;font-size:17px'>  \n",
    "  \n",
    "در یادگیری ماشینی، یکی از حیاتی ترین جنبه های ساخت مدل های قوی و تعمیم یافته، تقسیم صحیح داده های شما به زیر مجموعه های مختلف است. این فرآیند برای اطمینان از اینکه مدل شما می تواند از داده ها بیاموزد، عملکرد خود را بهینه کند و ارزیابی بی طرفانه ای از قابلیت های پیش بینی خود ارائه دهد، ضروری است.\n",
    "\n",
    "اهمیت تقسیم داده ها در توانایی آن برای جلوگیری از برازش بیش از حد نهفته است، که زمانی اتفاق می افتد که یک مدل نویز و الگوهای خاص در داده های آموزشی را به خوبی یاد می گیرد و در نتیجه عملکرد ضعیفی در داده های جدید و دیده نشده دارد. با تقسیم داده های خود به مجموعه های جداگانه برای آموزش، اعتبار سنجی و آزمایش، می توانید بیش از حد برازش را کاهش دهید و عملکرد مدل خود را با دقت بیشتری ارزیابی کنید."
   ]
  },
  {
   "cell_type": "markdown",
   "id": "f7f830da",
   "metadata": {},
   "source": [
    "<div>\n",
    "            <img src=\"data-split.png\"/width='600'>\n",
    "</div>"
   ]
  },
  {
   "cell_type": "markdown",
   "id": "6281d652",
   "metadata": {
    "direction": "rtl"
   },
   "source": [
    " \n",
    "## مجموعه آموزشی:  \n",
    "\n",
    "   \n",
    "\n"
   ]
  },
  {
   "cell_type": "markdown",
   "id": "f01fc798",
   "metadata": {
    "direction": "rtl"
   },
   "source": [
    "  \n",
    "<span style='font-family:XB Niloofar;font-size:16px'>\n",
    "مجموعه آموزشی زیرمجموعه ای از داده های مورد استفاده برای آموزش یک مدل یادگیری ماشینی و یادگیری پارامترهای آن است. این بزرگترین بخش داده است که معمولاً 60-80٪ از کل مجموعه داده را شامل می شود، بسته به اندازه و پیچیدگی مشکل."
   ]
  },
  {
   "cell_type": "markdown",
   "id": "43c7f801",
   "metadata": {
    "direction": "rtl"
   },
   "source": [
    "<span style='font-family:XB Niloofar;font-size:16px'>  \n",
    "\n",
    "هدف مجموعه آموزشی ارائه نمونه های کافی برای مدل برای یادگیری الگوها، روابط و ساختارهای اساسی در داده ها است. در طول فرآیند آموزش، مدل به طور مکرر پارامترهای داخلی خود را تنظیم می کند تا تفاوت بین پیش بینی های خود و مقادیر هدف واقعی در مجموعه آموزشی را به حداقل برساند. این فرآیند به عنوان برازش مدل یا یادگیری شناخته می شود"
   ]
  },
  {
   "cell_type": "markdown",
   "id": "9e0bfe62",
   "metadata": {
    "direction": "rtl"
   },
   "source": [
    "<span style='font-family:XB Niloofar;font-size:16px'> \n",
    "هدف مجموعه آموزشی ارائه نمونه های کافی برای مدل برای یادگیری الگوها، روابط و ساختارهای اساسی در داده ها است. در طول فرآیند آموزش، مدل به طور مکرر پارامترهای داخلی خود را تنظیم می کند تا تفاوت بین پیش بینی های خود و مقادیر هدف واقعی در مجموعه آموزشی را به حداقل برساند. این فرآیند به عنوان برازش مدل یا یادگیری شناخته می شود"
   ]
  },
  {
   "cell_type": "markdown",
   "id": "bfc4af8d",
   "metadata": {
    "direction": "rtl"
   },
   "source": [
    "## مجموعه اعتبار سنجی \n"
   ]
  },
  {
   "cell_type": "markdown",
   "id": "5a156db3",
   "metadata": {
    "direction": "rtl"
   },
   "source": [
    "<span style='font-family:XB Niloofar;font-size:16px'> \n",
    "مجموعه اعتبارسنجی زیرمجموعه‌ای از داده‌ها است که برای ارزیابی و تنظیم دقیق مدل یادگیری ماشین در طول فرآیند آموزش استفاده می‌شود. نقش مهمی در انتخاب مدل، تنظیم هایپرپارامتر و جلوگیری از برازش بیش از حد دارد."
   ]
  },
  {
   "cell_type": "markdown",
   "id": "be56884b",
   "metadata": {
    "direction": "rtl"
   },
   "source": [
    "<span style='font-family:XB Niloofar;font-size:16px'>\n",
    "تنظیم فراپارامتر شامل تنظیم فراپارامترهای مدل است که تنظیماتی هستند که فرآیند یادگیری را کنترل می کنند. این فراپارامترها می توانند شامل نرخ یادگیری، قدرت منظم سازی، تعداد لایه های پنهان در یک شبکه عصبی یا عمق درخت تصمیم باشند. با تغییر سیستماتیک فراپارامترها و ارزیابی عملکرد مدل در مجموعه اعتبارسنجی، می توانید ترکیب بهینه ابرپارامترها را شناسایی کنید که بهترین نتایج را به همراه دارد."
   ]
  },
  {
   "cell_type": "markdown",
   "id": "88325528",
   "metadata": {
    "direction": "rtl"
   },
   "source": [
    "## مجموعه تست"
   ]
  },
  {
   "cell_type": "markdown",
   "id": "7f4f98a5",
   "metadata": {
    "direction": "rtl"
   },
   "source": [
    "<span style='font-family:XB Niloofar;font-size:16px'> \n",
    "مجموعه تست که به عنوان مجموعه تست یا مجموعه نگهدارنده نیز شناخته می‌شود، زیرمجموعه‌ای از داده‌ها است که برای ارزیابی عملکرد یک مدل یادگیری ماشین پس از آموزش و اعتبارسنجی استفاده می‌شود. این یک تخمین بی طرفانه از توانایی تعمیم مدل ارائه می دهد، که ظرفیت آن برای عملکرد خوب بر روی داده های جدید و نامرئی است."
   ]
  },
  {
   "cell_type": "markdown",
   "id": "f9ebee84",
   "metadata": {
    "direction": "rtl"
   },
   "source": [
    "<span style='font-family:XB Niloofar;font-size:16px'> \n",
    "مجموعه تست باید کاملا مستقل از مجموعه های آموزشی و اعتبار سنجی باشد. برای جلوگیری از هرگونه سوگیری یا نشت اطلاعات، نباید در طول فرآیند آموزش یا انتخاب مدل استفاده شود. این مدل فقط باید یک بار در مجموعه آزمایشی ارزیابی شود، پس از اتمام تمام مراحل آموزش، اعتبار سنجی و انتخاب مدل"
   ]
  },
  {
   "cell_type": "markdown",
   "id": "16dc626b",
   "metadata": {
    "direction": "rtl"
   },
   "source": [
    "<span style='font-family:XB Niloofar;font-size:16px'> \n",
    "بسیار مهم است که معیارهای مناسبی را انتخاب کنید که با اهداف و الزامات پروژه یادگیری ماشین شما هماهنگ باشد"
   ]
  },
  {
   "cell_type": "markdown",
   "id": "9c577381",
   "metadata": {
    "direction": "rtl"
   },
   "source": [
    "## تکنیک های تقسیم داده ها"
   ]
  },
  {
   "cell_type": "markdown",
   "id": "08ff0ceb",
   "metadata": {
    "direction": "rtl"
   },
   "source": [
    "<span style='font-family:XB Niloofar;font-size:16px'> \n",
    "هنگام کار با مدل های یادگیری ماشین، ضروری است که داده های خود را به زیر مجموعه های مناسب برای آموزش، اعتبار سنجی و آزمایش تقسیم کنید. چندین تکنیک معمولاً برای تقسیم داده ها استفاده می شود که هر کدام مزایا و ملاحظات خاص خود را دارند. بیایید این تکنیک ها را با جزئیات بررسی کنیم."
   ]
  },
  {
   "cell_type": "markdown",
   "id": "1581bf43",
   "metadata": {
    "direction": "rtl"
   },
   "source": [
    "### Holdout Methods"
   ]
  },
  {
   "cell_type": "markdown",
   "id": "dc1964ae",
   "metadata": {
    "direction": "rtl"
   },
   "source": [
    "<span style='font-family:XB Niloofar;font-size:16px'> \n",
    "روش Holdout ساده ترین روش برای تقسیم داده ها به مجموعه های آموزشی و آزمایشی است. در این روش، داده های خود را به صورت تصادفی به دو زیر مجموعه تقسیم می کنید: مجموعه آموزشی و مجموعه تست. مجموعه آموزشی برای آموزش مدل استفاده می شود، در حالی که مجموعه تست برای ارزیابی عملکرد آن بر روی داده های دیده نشده استفاده می شود"
   ]
  },
  {
   "cell_type": "markdown",
   "id": "4fa2a297",
   "metadata": {
    "direction": "rtl"
   },
   "source": [
    "<span style='font-family:XB Niloofar;font-size:16px'> \n",
    "مزیت اصلی روش Holdout سادگی و سرعت آن است. پیاده سازی ساده و از نظر محاسباتی کارآمد است، به خصوص برای مجموعه داده های بزرگ"
   ]
  },
  {
   "cell_type": "markdown",
   "id": "9383cae8",
   "metadata": {
    "direction": "rtl"
   },
   "source": [
    "<span style='font-family:XB Niloofar;font-size:16px'> \n",
    "با این حال، روش Holdout دارای برخی محدودیت ها و ملاحظات است:  \n",
    "    \n",
    "+ تقسیم تصادفی است، بنابراین عملکرد می تواند بسته به نمونه های خاصی که در هر زیر مجموعه به پایان می رسد متفاوت باشد.  \n",
    "+ اگر مجموعه داده کوچک باشد یا اگر تغییرات قابل توجهی در داده ها وجود داشته باشد، ممکن است تخمین قابل اعتمادی از عملکرد مدل ارائه نکند."
   ]
  },
  {
   "cell_type": "markdown",
   "id": "f8b84799",
   "metadata": {
    "direction": "rtl"
   },
   "source": [
    "### cross validation"
   ]
  },
  {
   "cell_type": "markdown",
   "id": "f3078dbd",
   "metadata": {
    "direction": "rtl"
   },
   "source": [
    "<span style='font-family:XB Niloofar;font-size:16px'> \n",
    "cross validation تکنیکی است که شامل تقسیم داده ها به زیر مجموعه های متعدد و آموزش و ارزیابی مدل بر روی ترکیب های مختلف این زیر مجموعه ها می شود. تخمین قوی تر و قابل اعتمادتری از عملکرد مدل ارائه می دهد. انواع مختلفی از cross validation وجود دارد :  \n",
    "  \n",
    "+ Stratified K-Fold Cross-Validation : این نوعی از اعتبارسنجی متقاطع K-fold است که تضمین می‌کند توزیع کلاس‌ها یا مقادیر هدف در هر فولد حفظ می‌شود. به ویژه برای مجموعه داده های نامتعادل یا زمانی که متغیر هدف دارای توزیع اریب است مفید است.  \n",
    "+ Leave-One-Out Cross-Validation (LOOCV): در این روش، هر نمونه در مجموعه داده یک بار به عنوان یک مجموعه آزمایشی استفاده می شود، در حالی که نمونه های باقی مانده برای آموزش استفاده می شود. معادل اعتبارسنجی متقاطع K-fold با K برابر با تعداد نمونه‌های موجود در مجموعه داده است. LOOCV از نظر محاسباتی گران است و معمولاً برای مجموعه داده های کوچک استفاده می شود"
   ]
  },
  {
   "cell_type": "markdown",
   "id": "90f7482e",
   "metadata": {},
   "source": [
    "<div>\n",
    "            <img src=\"k-fold.png\"/width='600'>\n",
    "</div>"
   ]
  },
  {
   "cell_type": "markdown",
   "id": "ee75e02d",
   "metadata": {},
   "source": [
    "# Feature selection and extraction"
   ]
  },
  {
   "cell_type": "markdown",
   "id": "f2c6ceea",
   "metadata": {
    "direction": "rtl"
   },
   "source": [
    "<span style='font-family:XB Niloofar;font-size:17px'>\n",
    "در یادگیری ماشینی، کیفیت و ارتباط ویژگی‌های مورد استفاده برای آموزش مدل‌ها نقش مهمی در تعیین عملکرد و توانایی تعمیم مدل‌ها دارد. انتخاب و استخراج ویژگی دو تکنیک مهمی هستند که به شناسایی و ایجاد آموزنده ترین و متمایزترین ویژگی ها از داده های خام کمک می کنند."
   ]
  },
  {
   "cell_type": "markdown",
   "id": "8c4567b1",
   "metadata": {
    "direction": "rtl"
   },
   "source": [
    "### انتخاب ویژگی:"
   ]
  },
  {
   "cell_type": "markdown",
   "id": "f9b39164",
   "metadata": {
    "direction": "rtl"
   },
   "source": [
    "<span style='font-family:XB Niloofar;font-size:17px'>\n",
    "به فرآیند انتخاب زیرمجموعه ای از ویژگی های مرتبط از مجموعه اصلی ویژگی ها اشاره دارد. هدف کاهش ابعاد داده‌ها با کنار گذاشتن ویژگی‌های نامربوط یا زائد است، در حالی که آن‌هایی که اطلاعات بیشتری را برای کار در دست دارند حفظ می‌کنند."
   ]
  },
  {
   "cell_type": "markdown",
   "id": "bdc472fe",
   "metadata": {
    "direction": "rtl"
   },
   "source": [
    "### استخراج ویژگی :"
   ]
  },
  {
   "cell_type": "markdown",
   "id": "f4ba8e83",
   "metadata": {
    "direction": "rtl"
   },
   "source": [
    "<span style='font-family:XB Niloofar;font-size:17px'>\n",
    "\n",
    "\n",
    "از سوی دیگر، شامل تبدیل ویژگی های اصلی به فضایی با ابعاد کمتر با استفاده از تکنیک هایی مانند کاهش ابعاد یا طرح ریزی است. هدف ایجاد ویژگی‌های جدید است که مهم‌ترین اطلاعات را در داده‌ها ثبت کند و در عین حال پیچیدگی آن را کاهش دهد"
   ]
  },
  {
   "cell_type": "markdown",
   "id": "a0a30a5e",
   "metadata": {
    "direction": "ltr"
   },
   "source": [
    "<div>\n",
    "            <img src=\"feature-selection-extraction.png\"/width='600'>\n",
    "</div>"
   ]
  },
  {
   "cell_type": "markdown",
   "id": "e9bdbee1",
   "metadata": {
    "direction": "rtl"
   },
   "source": [
    "<span style='font-family:XB Niloofar;font-size:17px'>\n",
    "هم انتخاب ویژگی و هم استخراج، مراحل ضروری در خط لوله یادگیری ماشین هستند، زیرا می توانند به چندین مزیت منجر شوند، از جمله:  \n",
    "    \n",
    "+ عملکرد مدل بهبود یافته  \n",
    "+ کاهش overfitting  \n",
    "+ آموزش سریعتر و استنتاج  \n",
    "+ تفسیر بهتر از موضوع"
   ]
  },
  {
   "cell_type": "markdown",
   "id": "e0cbc512",
   "metadata": {
    "direction": "rtl"
   },
   "source": [
    "<span style='font-family:XB Niloofar;font-size:17px'>\n",
    "قبل از اعمال تکنیک های انتخاب ویژگی یا استخراج، پیش پردازش داده ها ضروری است. این ممکن است شامل مدیریت مقادیر از دست رفته، مقیاس‌بندی یا عادی‌سازی ویژگی‌ها، و رمزگذاری متغیرهای طبقه‌بندی شود"
   ]
  },
  {
   "cell_type": "markdown",
   "id": "a0829119",
   "metadata": {
    "direction": "rtl"
   },
   "source": [
    "### انواع انتخاب ویژگی :"
   ]
  },
  {
   "cell_type": "markdown",
   "id": "b3090818",
   "metadata": {
    "direction": "rtl"
   },
   "source": [
    "<span style='font-family:XB Niloofar;font-size:17px'>  \n",
    "    \n",
    "+ روش های فیلترینگ : این روش ها ارتباط ویژگی ها را بر اساس معیارهای آماری مانند همبستگی، آزمون کای اسکوئر یا اطلاعات متقابل ارزیابی می کنند.  \n",
    "+ روش های لفاف دار : این روش‌ها زیرمجموعه‌های ویژگی‌ها را با آموزش و آزمایش یک مدل بر روی هر زیر مجموعه ارزیابی می‌کنند. عملکرد مدل به عنوان معیاری برای انتخاب بهترین زیرمجموعه از ویژگی ها استفاده می شود :"
   ]
  },
  {
   "cell_type": "markdown",
   "id": "e8a12afa",
   "metadata": {
    "direction": "rtl"
   },
   "source": [
    "<span style='font-family:XB Niloofar;font-size:17px'>  \n",
    "    \n",
    "+ حذف ویژگی به عقب با همه ویژگی ها شروع می شود و به طور تکراری حداقل ویژگی های مرتبط را یکی یکی حذف می کند. زمانی که حذف ویژگی های بیشتر باعث کاهش عملکرد مدل شود، متوقف می شود.  \n",
    "      \n",
    "    \n",
    "+ انتخاب ویژگی رو به جلو با مجموعه ای خالی از ویژگی ها شروع می شود و به طور مکرر مرتبط ترین ویژگی ها را یکی یکی اضافه می کند. زمانی متوقف می شود که افزودن ویژگی های بیشتر باعث بهبود عملکرد مدل نشود\n"
   ]
  },
  {
   "cell_type": "markdown",
   "id": "0ea5587d",
   "metadata": {
    "direction": "rtl"
   },
   "source": [
    "### تکنیک های استخراج ویژگی :"
   ]
  },
  {
   "cell_type": "markdown",
   "id": "5581401d",
   "metadata": {
    "direction": "rtl"
   },
   "source": [
    "<span style='font-family:XB Niloofar;font-size:17px'>  \n",
    "هدف تکنیک‌های استخراج ویژگی تبدیل ویژگی‌های اصلی به یک فضای جدید با ابعاد پایین‌تر و در عین حال حفظ مهم‌ترین اطلاعات است. این تکنیک‌ها می‌توانند هنگام برخورد با داده‌های با ابعاد بالا یا زمانی که ویژگی‌های اصلی مستقیماً برای الگوریتم‌های یادگیری ماشین مناسب نیستند، مفید باشند."
   ]
  },
  {
   "cell_type": "markdown",
   "id": "c697c5c6",
   "metadata": {},
   "source": [
    "<div>\n",
    "            <img src=\"feature-selection-extraction-2.png\"/width='600'>\n",
    "</div>"
   ]
  },
  {
   "cell_type": "markdown",
   "id": "5af53b87",
   "metadata": {
    "direction": "rtl"
   },
   "source": [
    "<span style='font-family:XB Niloofar;font-size:18px'>   \n",
    "در توضیحات قبلی از لغات overfitting و underfittin استفاده کردیم ، حال به بررسی آن ها می پردازیم : "
   ]
  },
  {
   "cell_type": "markdown",
   "id": "23791117",
   "metadata": {
    "direction": "rtl"
   },
   "source": [
    "<span style='font-family:XB Niloofar;font-size:17px'>  \n",
    "بیش برازش (overfitting):  "
   ]
  },
  {
   "cell_type": "markdown",
   "id": "ad071e7c",
   "metadata": {
    "direction": "rtl"
   },
   "source": [
    "<span style='font-family:XB Niloofar;font-size:16px'>\n",
    "یک مشکل یادگیری ماشینی که در آن یک الگوریتم قادر به تشخیص اطلاعات مربوط به وظیفه تعیین شده از اطلاعات نامربوط در داده های آموزشی نیست. برازش بیش از حد، عملکرد پیش‌بینی الگوریتم را هنگام برخورد با داده‌های جدید مهار می‌کند."
   ]
  },
  {
   "cell_type": "markdown",
   "id": "78edf75a",
   "metadata": {
    "direction": "rtl"
   },
   "source": [
    "<span style='font-family:XB Niloofar;font-size:17px'>  \n",
    "کم برازش (underfitting):"
   ]
  },
  {
   "cell_type": "markdown",
   "id": "2472a8a0",
   "metadata": {
    "direction": "rtl"
   },
   "source": [
    "<span style='font-family:XB Niloofar;font-size:16px'>\n",
    "این واقعیت که یک الگوریتم یادگیری ماشینی نمی تواند ساختار زیربنایی داده ها را به درستی ثبت کند، معمولاً به این دلیل که مدل یا به اندازه کافی پیچیده نیست، یا برای کار در دست مناسب نیست. برعکس overfitting"
   ]
  },
  {
   "cell_type": "markdown",
   "id": "9cc8a46e",
   "metadata": {},
   "source": [
    "<div>\n",
    "            <img src=\"overfitting-underfitting.png\"/width='600'>\n",
    "</div>"
   ]
  },
  {
   "cell_type": "code",
   "execution_count": null,
   "id": "b9583235",
   "metadata": {},
   "outputs": [],
   "source": []
  }
 ],
 "metadata": {
  "kernelspec": {
   "display_name": "Python 3 (ipykernel)",
   "language": "python",
   "name": "python3"
  },
  "language_info": {
   "codemirror_mode": {
    "name": "ipython",
    "version": 3
   },
   "file_extension": ".py",
   "mimetype": "text/x-python",
   "name": "python",
   "nbconvert_exporter": "python",
   "pygments_lexer": "ipython3",
   "version": "3.11.5"
  }
 },
 "nbformat": 4,
 "nbformat_minor": 5
}
