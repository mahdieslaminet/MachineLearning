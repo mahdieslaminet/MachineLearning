{
 "cells": [
  {
   "cell_type": "markdown",
   "id": "fc61eeeb",
   "metadata": {
    "direction": "ltr"
   },
   "source": [
    "# numpy library"
   ]
  },
  {
   "cell_type": "markdown",
   "id": "9abbe5cf",
   "metadata": {
    "direction": "rtl"
   },
   "source": [
    "<span style='font-family:XB Niloofar;font-size:17px'>\n",
    "NumPy یک کتابخانه برای زبان برنامه نویسی پایتون (Python) است. با استفاده از این کتابخانه امکان استفاده از آرایه‌ها و ماتریس‌های بزرگ چند بعدی فراهم می‌شود. هم‌چنین می‌توان از تابع‌های ریاضیاتی سطح بالا بر روی این آرایه‌ها استفاده کرد.\n"
   ]
  },
  {
   "cell_type": "markdown",
   "id": "8f325dba",
   "metadata": {
    "direction": "rtl"
   },
   "source": [
    "<span style='font-family:XB Niloofar;font-size:17px'>\n",
    "سرعت اجرا در آرایه ها بسیار بیشتر از لیست است چون آرایه ها Locally Refrence هستند یعنی حافظه از جایی که خونده برمیگرده و دوباره همانجا را میخونه"
   ]
  },
  {
   "cell_type": "markdown",
   "id": "d137f350",
   "metadata": {
    "direction": "rtl"
   },
   "source": [
    "<span style='font-family:XB Niloofar;font-size:17px'>\n",
    "حال به بررسی توابع پرکاربرد در numpy می پردازیم :"
   ]
  },
  {
   "cell_type": "markdown",
   "id": "c29d298c",
   "metadata": {
    "direction": "rtl"
   },
   "source": [
    "<span style='font-family:XB Niloofar;font-size:17px'>\n",
    "برای شروع کار با numpy ابتدا لازم است کتابخانه آن را به کد اضافه کنیم :  \n",
    "      \n",
    "سپس باید یک object برای آن تعیین کنیم که توابع را به کمک آن فراخوانی کنیم :"
   ]
  },
  {
   "cell_type": "code",
   "execution_count": 1,
   "id": "62f1fde8",
   "metadata": {},
   "outputs": [],
   "source": [
    "import numpy as np"
   ]
  },
  {
   "cell_type": "markdown",
   "id": "49d02b22",
   "metadata": {
    "direction": "rtl"
   },
   "source": [
    "<span style='font-family:XB Niloofar;font-size:17px'>\n",
    "ابتدا یک آرایه ساده با دستور np.array درست میکنیم :"
   ]
  },
  {
   "cell_type": "code",
   "execution_count": 2,
   "id": "988c7ddb",
   "metadata": {},
   "outputs": [],
   "source": [
    "a = np.array([1,2,3])"
   ]
  },
  {
   "cell_type": "code",
   "execution_count": 3,
   "id": "8a66327d",
   "metadata": {},
   "outputs": [
    {
     "data": {
      "text/plain": [
       "array([1, 2, 3])"
      ]
     },
     "execution_count": 3,
     "metadata": {},
     "output_type": "execute_result"
    }
   ],
   "source": [
    "a"
   ]
  },
  {
   "cell_type": "markdown",
   "id": "eea4aee3",
   "metadata": {
    "direction": "rtl"
   },
   "source": [
    "<span style='font-family:XB Niloofar;font-size:17px'>\n",
    "برای اینکه مشخصات ابعادی آرایه را ببینیم : "
   ]
  },
  {
   "cell_type": "code",
   "execution_count": 5,
   "id": "9190f281",
   "metadata": {},
   "outputs": [
    {
     "data": {
      "text/plain": [
       "(3,)"
      ]
     },
     "execution_count": 5,
     "metadata": {},
     "output_type": "execute_result"
    }
   ],
   "source": [
    "a.shape"
   ]
  },
  {
   "cell_type": "markdown",
   "id": "e9e590ae",
   "metadata": {
    "direction": "rtl"
   },
   "source": [
    "<span style='font-family:XB Niloofar;font-size:17px'>\n",
    "برای اینکه تعداد بعد را پیدا کنیم :"
   ]
  },
  {
   "cell_type": "code",
   "execution_count": 6,
   "id": "f346614b",
   "metadata": {},
   "outputs": [
    {
     "data": {
      "text/plain": [
       "1"
      ]
     },
     "execution_count": 6,
     "metadata": {},
     "output_type": "execute_result"
    }
   ],
   "source": [
    "a.ndim"
   ]
  },
  {
   "cell_type": "markdown",
   "id": "f3d83cae",
   "metadata": {
    "direction": "rtl"
   },
   "source": [
    "<span style='font-family:XB Niloofar;font-size:17px'>\n",
    "برای اینکه تعداد المان آرایه را پیدا کنیم :"
   ]
  },
  {
   "cell_type": "code",
   "execution_count": 7,
   "id": "e8a143a4",
   "metadata": {},
   "outputs": [
    {
     "data": {
      "text/plain": [
       "3"
      ]
     },
     "execution_count": 7,
     "metadata": {},
     "output_type": "execute_result"
    }
   ],
   "source": [
    "a.size"
   ]
  },
  {
   "cell_type": "markdown",
   "id": "92a79ab4",
   "metadata": {
    "direction": "rtl"
   },
   "source": [
    "<span style='font-family:XB Niloofar;font-size:17px'>\n",
    "حال یک آرایه بزرگتر درست تر میکنیم ، میتوان با استفاده از dtype تایپ المان هارا مشخص کرد :"
   ]
  },
  {
   "cell_type": "code",
   "execution_count": 8,
   "id": "487f673a",
   "metadata": {},
   "outputs": [],
   "source": [
    "b = np.array([[1.2,2,3],[4,5,6]],dtype = int)"
   ]
  },
  {
   "cell_type": "code",
   "execution_count": 9,
   "id": "61cd4734",
   "metadata": {},
   "outputs": [
    {
     "data": {
      "text/plain": [
       "array([[1, 2, 3],\n",
       "       [4, 5, 6]])"
      ]
     },
     "execution_count": 9,
     "metadata": {},
     "output_type": "execute_result"
    }
   ],
   "source": [
    "b"
   ]
  },
  {
   "cell_type": "markdown",
   "id": "810101b7",
   "metadata": {
    "direction": "rtl"
   },
   "source": [
    "<span style='font-family:XB Niloofar;font-size:17px'>\n",
    "با تابع arange میتوان بین دو عدد با فاصله دلخواه آرایه ایجاد کرد :"
   ]
  },
  {
   "cell_type": "code",
   "execution_count": 10,
   "id": "634761ef",
   "metadata": {},
   "outputs": [],
   "source": [
    "b = np.arange(start=1,stop=10,step=1)"
   ]
  },
  {
   "cell_type": "code",
   "execution_count": 11,
   "id": "fa2c6a8f",
   "metadata": {},
   "outputs": [
    {
     "data": {
      "text/plain": [
       "array([1, 2, 3, 4, 5, 6, 7, 8, 9])"
      ]
     },
     "execution_count": 11,
     "metadata": {},
     "output_type": "execute_result"
    }
   ],
   "source": [
    "b"
   ]
  },
  {
   "cell_type": "markdown",
   "id": "6c0312d3",
   "metadata": {
    "direction": "rtl"
   },
   "source": [
    "<span style='font-family:XB Niloofar;font-size:17px'>\n",
    "اگر step را خودمان مشخص نکنیم ، به طور پیش فرض یک در نظر میگیرد :"
   ]
  },
  {
   "cell_type": "code",
   "execution_count": 12,
   "id": "d8b7a42d",
   "metadata": {},
   "outputs": [],
   "source": [
    "b = np.arange(start=1,stop=10)"
   ]
  },
  {
   "cell_type": "code",
   "execution_count": 14,
   "id": "59d3cd04",
   "metadata": {},
   "outputs": [
    {
     "data": {
      "text/plain": [
       "array([1, 2, 3, 4, 5, 6, 7, 8, 9])"
      ]
     },
     "execution_count": 14,
     "metadata": {},
     "output_type": "execute_result"
    }
   ],
   "source": [
    "b"
   ]
  },
  {
   "cell_type": "markdown",
   "id": "bc84546d",
   "metadata": {
    "direction": "rtl"
   },
   "source": [
    "<span style='font-family:XB Niloofar;font-size:17px'>\n",
    "اگر بخواهیم ابعاد ماتریس را تغییر دهیم از تابع reshape استفاده میکنیم :"
   ]
  },
  {
   "cell_type": "code",
   "execution_count": 15,
   "id": "dca15849",
   "metadata": {},
   "outputs": [
    {
     "data": {
      "text/plain": [
       "array([[1],\n",
       "       [2],\n",
       "       [3],\n",
       "       [4],\n",
       "       [5],\n",
       "       [6],\n",
       "       [7],\n",
       "       [8],\n",
       "       [9]])"
      ]
     },
     "execution_count": 15,
     "metadata": {},
     "output_type": "execute_result"
    }
   ],
   "source": [
    "b.reshape(9,1)"
   ]
  },
  {
   "cell_type": "markdown",
   "id": "9ef5fef7",
   "metadata": {
    "direction": "rtl"
   },
   "source": [
    "<span style='font-family:XB Niloofar;font-size:17px'>\n",
    "با تابع linspace میتوان بین دو عدد ، به هر تعداد که میخواهیم عدد بگذاریم :"
   ]
  },
  {
   "cell_type": "code",
   "execution_count": 16,
   "id": "17bf056f",
   "metadata": {},
   "outputs": [
    {
     "data": {
      "text/plain": [
       "array([10.        , 10.52631579, 11.05263158, 11.57894737, 12.10526316,\n",
       "       12.63157895, 13.15789474, 13.68421053, 14.21052632, 14.73684211,\n",
       "       15.26315789, 15.78947368, 16.31578947, 16.84210526, 17.36842105,\n",
       "       17.89473684, 18.42105263, 18.94736842, 19.47368421, 20.        ])"
      ]
     },
     "execution_count": 16,
     "metadata": {},
     "output_type": "execute_result"
    }
   ],
   "source": [
    "np.linspace(start=10,stop=20,num=20)"
   ]
  },
  {
   "cell_type": "markdown",
   "id": "d8119b05",
   "metadata": {
    "direction": "rtl"
   },
   "source": [
    "<span style='font-family:XB Niloofar;font-size:17px'>\n",
    "با تابع np.ones میتوان ماتریس یک را درست کرد :  \n",
    "        \n",
    "درون پرانتز هم میتوان shape  آن را تعیین کرد"
   ]
  },
  {
   "cell_type": "code",
   "execution_count": 17,
   "id": "789a36e0",
   "metadata": {},
   "outputs": [
    {
     "data": {
      "text/plain": [
       "array([[1, 1, 1],\n",
       "       [1, 1, 1]])"
      ]
     },
     "execution_count": 17,
     "metadata": {},
     "output_type": "execute_result"
    }
   ],
   "source": [
    "np.ones((2,3),dtype=int)"
   ]
  },
  {
   "cell_type": "markdown",
   "id": "5a33bf9b",
   "metadata": {
    "direction": "rtl"
   },
   "source": [
    "<span style='font-family:XB Niloofar;font-size:17px'>\n",
    "با تابع np.zeros میتوان ماتریس صفر درست کرد :"
   ]
  },
  {
   "cell_type": "code",
   "execution_count": 18,
   "id": "52e3e99c",
   "metadata": {},
   "outputs": [
    {
     "data": {
      "text/plain": [
       "array([[0, 0, 0],\n",
       "       [0, 0, 0]])"
      ]
     },
     "execution_count": 18,
     "metadata": {},
     "output_type": "execute_result"
    }
   ],
   "source": [
    "np.zeros((2,3),dtype=int)"
   ]
  },
  {
   "cell_type": "markdown",
   "id": "4aac5817",
   "metadata": {
    "direction": "rtl"
   },
   "source": [
    "<span style='font-family:XB Niloofar;font-size:17px'>\n",
    "با تابع np.random.random میتوان بین صفر تا یک نسبت به  shape رندوم درست کند :"
   ]
  },
  {
   "cell_type": "code",
   "execution_count": 19,
   "id": "5e0db3f0",
   "metadata": {},
   "outputs": [
    {
     "data": {
      "text/plain": [
       "array([[0.11876746, 0.72572213, 0.55592661, 0.18030981],\n",
       "       [0.22636962, 0.60676775, 0.71265427, 0.37305257],\n",
       "       [0.94606954, 0.13135218, 0.48850161, 0.3640879 ]])"
      ]
     },
     "execution_count": 19,
     "metadata": {},
     "output_type": "execute_result"
    }
   ],
   "source": [
    "np.random.random((3,4))"
   ]
  },
  {
   "cell_type": "markdown",
   "id": "5e0aa768",
   "metadata": {
    "direction": "rtl"
   },
   "source": [
    "<span style='font-family:XB Niloofar;font-size:17px'>\n",
    "با تابع np.random.randint میتوان بین دو عدد با shape دلخواه عدد تصادفی درست کند :"
   ]
  },
  {
   "cell_type": "code",
   "execution_count": 21,
   "id": "e69e3fba",
   "metadata": {},
   "outputs": [],
   "source": [
    "c=np.random.randint(0,10,(3,3))"
   ]
  },
  {
   "cell_type": "code",
   "execution_count": 22,
   "id": "cb9d31d3",
   "metadata": {},
   "outputs": [
    {
     "data": {
      "text/plain": [
       "array([[5, 0, 6],\n",
       "       [0, 6, 0],\n",
       "       [0, 6, 8]])"
      ]
     },
     "execution_count": 22,
     "metadata": {},
     "output_type": "execute_result"
    }
   ],
   "source": [
    "c"
   ]
  },
  {
   "cell_type": "markdown",
   "id": "60afce52",
   "metadata": {
    "direction": "rtl"
   },
   "source": [
    "<span style='font-family:XB Niloofar;font-size:17px'>\n",
    "برای دسترسی به المان یک ماتریس از الگوی زیر استفاده میکنیم :"
   ]
  },
  {
   "cell_type": "code",
   "execution_count": 24,
   "id": "ae18bbab",
   "metadata": {},
   "outputs": [
    {
     "data": {
      "text/plain": [
       "8"
      ]
     },
     "execution_count": 24,
     "metadata": {},
     "output_type": "execute_result"
    }
   ],
   "source": [
    "c[2][2]"
   ]
  },
  {
   "cell_type": "markdown",
   "id": "0ede6c23",
   "metadata": {
    "direction": "rtl"
   },
   "source": [
    "<span style='font-family:XB Niloofar;font-size:17px'>\n",
    "الگوی نامپای به این شکل است که اول سطر را قبول میکند سپس ستون را "
   ]
  },
  {
   "cell_type": "markdown",
   "id": "362e8e2f",
   "metadata": {
    "direction": "rtl"
   },
   "source": [
    "<span style='font-family:XB Niloofar;font-size:17px'>\n",
    "برای اسلایس کردن ماتریس از الگوی زیر استفاده میکنیم :  \n",
    "      \n",
    "همیشه stop-1 میشود و تا خود آن عدد جلو نمیرود"
   ]
  },
  {
   "cell_type": "code",
   "execution_count": 25,
   "id": "9d895091",
   "metadata": {},
   "outputs": [],
   "source": [
    "a = np.arange(1,21)"
   ]
  },
  {
   "cell_type": "code",
   "execution_count": 26,
   "id": "357bae9f",
   "metadata": {},
   "outputs": [],
   "source": [
    "a.shape = (4,5)"
   ]
  },
  {
   "cell_type": "code",
   "execution_count": 27,
   "id": "c0f4bffd",
   "metadata": {},
   "outputs": [
    {
     "data": {
      "text/plain": [
       "array([[ 1,  2,  3,  4,  5],\n",
       "       [ 6,  7,  8,  9, 10],\n",
       "       [11, 12, 13, 14, 15],\n",
       "       [16, 17, 18, 19, 20]])"
      ]
     },
     "execution_count": 27,
     "metadata": {},
     "output_type": "execute_result"
    }
   ],
   "source": [
    "a"
   ]
  },
  {
   "cell_type": "code",
   "execution_count": 29,
   "id": "ec1d34c1",
   "metadata": {},
   "outputs": [
    {
     "data": {
      "text/plain": [
       "array([[ 8,  9],\n",
       "       [13, 14]])"
      ]
     },
     "execution_count": 29,
     "metadata": {},
     "output_type": "execute_result"
    }
   ],
   "source": [
    "a[1:3,2:4]"
   ]
  },
  {
   "cell_type": "markdown",
   "id": "369a5d05",
   "metadata": {
    "direction": "rtl"
   },
   "source": [
    "<span style='font-family:XB Niloofar;font-size:17px'>\n",
    "میتوان در یک ماتریس بزرگ و کوچک تر از یک عددی را پیدا کنیم :  "
   ]
  },
  {
   "cell_type": "code",
   "execution_count": 33,
   "id": "1609ea79",
   "metadata": {},
   "outputs": [],
   "source": [
    "d = np.random.randint(0,50,size =(3,5))"
   ]
  },
  {
   "cell_type": "code",
   "execution_count": 34,
   "id": "b0b74267",
   "metadata": {},
   "outputs": [
    {
     "data": {
      "text/plain": [
       "array([[10, 49, 36, 19, 39],\n",
       "       [45, 25, 20, 13,  5],\n",
       "       [ 4, 29, 15, 41, 34]])"
      ]
     },
     "execution_count": 34,
     "metadata": {},
     "output_type": "execute_result"
    }
   ],
   "source": [
    "d"
   ]
  },
  {
   "cell_type": "code",
   "execution_count": 35,
   "id": "bfe6bd10",
   "metadata": {},
   "outputs": [
    {
     "data": {
      "text/plain": [
       "array([49, 36, 39, 45, 41, 34])"
      ]
     },
     "execution_count": 35,
     "metadata": {},
     "output_type": "execute_result"
    }
   ],
   "source": [
    "d[d>30]"
   ]
  },
  {
   "cell_type": "markdown",
   "id": "228dc325",
   "metadata": {
    "direction": "rtl"
   },
   "source": [
    "<span style='font-family:XB Niloofar;font-size:17px'>\n",
    "برای اینکه یک ماتریس قطری درست کنیم :"
   ]
  },
  {
   "cell_type": "code",
   "execution_count": 36,
   "id": "21318bfe",
   "metadata": {},
   "outputs": [
    {
     "data": {
      "text/plain": [
       "array([[1., 0., 0., 0., 0.],\n",
       "       [0., 1., 0., 0., 0.],\n",
       "       [0., 0., 1., 0., 0.],\n",
       "       [0., 0., 0., 1., 0.],\n",
       "       [0., 0., 0., 0., 1.]])"
      ]
     },
     "execution_count": 36,
     "metadata": {},
     "output_type": "execute_result"
    }
   ],
   "source": [
    "np.eye(5)"
   ]
  },
  {
   "cell_type": "markdown",
   "id": "af26475a",
   "metadata": {
    "direction": "rtl"
   },
   "source": [
    "<span style='font-family:XB Niloofar;font-size:17px'>\n",
    "برای اینکه در یک ماتریس بزرگترین المان را پیدا کنیم :"
   ]
  },
  {
   "cell_type": "code",
   "execution_count": 37,
   "id": "3f42be3a",
   "metadata": {},
   "outputs": [
    {
     "data": {
      "text/plain": [
       "49"
      ]
     },
     "execution_count": 37,
     "metadata": {},
     "output_type": "execute_result"
    }
   ],
   "source": [
    "d.max()"
   ]
  },
  {
   "cell_type": "markdown",
   "id": "6f747512",
   "metadata": {
    "direction": "rtl"
   },
   "source": [
    "<span style='font-family:XB Niloofar;font-size:17px'>\n",
    "اگر بخواهیم به صورت True و False المان های بزرگ تر و کوچک تر را پیدا کنیم : "
   ]
  },
  {
   "cell_type": "code",
   "execution_count": 38,
   "id": "511cd7c8",
   "metadata": {},
   "outputs": [
    {
     "data": {
      "text/plain": [
       "array([[False,  True,  True, False,  True],\n",
       "       [ True, False, False, False, False],\n",
       "       [False, False, False,  True,  True]])"
      ]
     },
     "execution_count": 38,
     "metadata": {},
     "output_type": "execute_result"
    }
   ],
   "source": [
    "d>30"
   ]
  },
  {
   "cell_type": "markdown",
   "id": "93dd3ced",
   "metadata": {
    "direction": "rtl"
   },
   "source": [
    "<span style='font-family:XB Niloofar;font-size:17px'>\n",
    "ما در نامپای ماتریس چند بعدی هم میتوانیم داشته باشیم :"
   ]
  },
  {
   "cell_type": "code",
   "execution_count": 39,
   "id": "ceba8d44",
   "metadata": {},
   "outputs": [
    {
     "data": {
      "text/plain": [
       "array([[[31, 17, 25, 39, 46],\n",
       "        [41, 16,  4,  3, 57],\n",
       "        [26, 35,  6, 40, 24]],\n",
       "\n",
       "       [[59, 55, 53, 46, 11],\n",
       "        [13, 39, 27, 18, 17],\n",
       "        [25, 26, 50, 22,  5]]])"
      ]
     },
     "execution_count": 39,
     "metadata": {},
     "output_type": "execute_result"
    }
   ],
   "source": [
    "np.random.randint(1,60,size=(2,3,5))"
   ]
  },
  {
   "cell_type": "markdown",
   "id": "438acfde",
   "metadata": {
    "direction": "rtl"
   },
   "source": [
    "<span style='font-family:XB Niloofar;font-size:17px'>\n",
    "به خاطر dynamic بودن زبان پایتون میتوان المان های ماتریس را هم تغییر داد ، میتوان از متد اسلایسینگ استفاده کرد :"
   ]
  },
  {
   "cell_type": "code",
   "execution_count": 40,
   "id": "9b6dac68",
   "metadata": {},
   "outputs": [
    {
     "data": {
      "text/plain": [
       "array([[10, 49, 36, 19, 39],\n",
       "       [45, 25, 20, 13,  5],\n",
       "       [ 4, 29, 15, 41, 34]])"
      ]
     },
     "execution_count": 40,
     "metadata": {},
     "output_type": "execute_result"
    }
   ],
   "source": [
    "d"
   ]
  },
  {
   "cell_type": "code",
   "execution_count": 43,
   "id": "c651cca9",
   "metadata": {},
   "outputs": [],
   "source": [
    "d[2,2]=100"
   ]
  },
  {
   "cell_type": "code",
   "execution_count": 50,
   "id": "f4bbb359",
   "metadata": {},
   "outputs": [],
   "source": [
    "d[:3,2]=100"
   ]
  },
  {
   "cell_type": "code",
   "execution_count": 51,
   "id": "3f084a49",
   "metadata": {},
   "outputs": [
    {
     "data": {
      "text/plain": [
       "array([[ 10,  49, 100,  19,  39],\n",
       "       [ 45,  25, 100,  13,   5],\n",
       "       [100, 100, 100,  41,  34]])"
      ]
     },
     "execution_count": 51,
     "metadata": {},
     "output_type": "execute_result"
    }
   ],
   "source": [
    "d"
   ]
  },
  {
   "cell_type": "markdown",
   "id": "3fe11dc0",
   "metadata": {
    "direction": "rtl"
   },
   "source": [
    "<span style='font-family:XB Niloofar;font-size:17px'>\n",
    "میتوان بین دو ماتریس عملیات ریاضی و منطقی انجام داد به شرط اینکه ابعاد آن مناسب عملیات ریاضی باشد :"
   ]
  },
  {
   "cell_type": "code",
   "execution_count": 52,
   "id": "e5a6f983",
   "metadata": {},
   "outputs": [],
   "source": [
    "a = np.arange(1,101,1).reshape(10,10)"
   ]
  },
  {
   "cell_type": "code",
   "execution_count": 71,
   "id": "7a1c9851",
   "metadata": {},
   "outputs": [],
   "source": [
    "b = np.linspace(1,100,100).reshape(10,10)"
   ]
  },
  {
   "cell_type": "code",
   "execution_count": 72,
   "id": "8af18166",
   "metadata": {},
   "outputs": [
    {
     "data": {
      "text/plain": [
       "array([[  1,   2,   3,   4,   5,   6,   7,   8,   9,  10],\n",
       "       [ 11,  12,  13,  14,  15,  16,  17,  18,  19,  20],\n",
       "       [ 21,  22,  23,  24,  25,  26,  27,  28,  29,  30],\n",
       "       [ 31,  32,  33,  34,  35,  36,  37,  38,  39,  40],\n",
       "       [ 41,  42,  43,  44,  45,  46,  47,  48,  49,  50],\n",
       "       [ 51,  52,  53,  54,  55,  56,  57,  58,  59,  60],\n",
       "       [ 61,  62,  63,  64,  65,  66,  67,  68,  69,  70],\n",
       "       [ 71,  72,  73,  74,  75,  76,  77,  78,  79,  80],\n",
       "       [ 81,  82,  83,  84,  85,  86,  87,  88,  89,  90],\n",
       "       [ 91,  92,  93,  94,  95,  96,  97,  98,  99, 100]])"
      ]
     },
     "execution_count": 72,
     "metadata": {},
     "output_type": "execute_result"
    }
   ],
   "source": [
    "a"
   ]
  },
  {
   "cell_type": "code",
   "execution_count": 73,
   "id": "996b03d8",
   "metadata": {},
   "outputs": [
    {
     "data": {
      "text/plain": [
       "array([[  1.,   2.,   3.,   4.,   5.,   6.,   7.,   8.,   9.,  10.],\n",
       "       [ 11.,  12.,  13.,  14.,  15.,  16.,  17.,  18.,  19.,  20.],\n",
       "       [ 21.,  22.,  23.,  24.,  25.,  26.,  27.,  28.,  29.,  30.],\n",
       "       [ 31.,  32.,  33.,  34.,  35.,  36.,  37.,  38.,  39.,  40.],\n",
       "       [ 41.,  42.,  43.,  44.,  45.,  46.,  47.,  48.,  49.,  50.],\n",
       "       [ 51.,  52.,  53.,  54.,  55.,  56.,  57.,  58.,  59.,  60.],\n",
       "       [ 61.,  62.,  63.,  64.,  65.,  66.,  67.,  68.,  69.,  70.],\n",
       "       [ 71.,  72.,  73.,  74.,  75.,  76.,  77.,  78.,  79.,  80.],\n",
       "       [ 81.,  82.,  83.,  84.,  85.,  86.,  87.,  88.,  89.,  90.],\n",
       "       [ 91.,  92.,  93.,  94.,  95.,  96.,  97.,  98.,  99., 100.]])"
      ]
     },
     "execution_count": 73,
     "metadata": {},
     "output_type": "execute_result"
    }
   ],
   "source": [
    "b"
   ]
  },
  {
   "cell_type": "code",
   "execution_count": 74,
   "id": "c55ba72e",
   "metadata": {},
   "outputs": [
    {
     "data": {
      "text/plain": [
       "array([[  2.,   4.,   6.,   8.,  10.,  12.,  14.,  16.,  18.,  20.],\n",
       "       [ 22.,  24.,  26.,  28.,  30.,  32.,  34.,  36.,  38.,  40.],\n",
       "       [ 42.,  44.,  46.,  48.,  50.,  52.,  54.,  56.,  58.,  60.],\n",
       "       [ 62.,  64.,  66.,  68.,  70.,  72.,  74.,  76.,  78.,  80.],\n",
       "       [ 82.,  84.,  86.,  88.,  90.,  92.,  94.,  96.,  98., 100.],\n",
       "       [102., 104., 106., 108., 110., 112., 114., 116., 118., 120.],\n",
       "       [122., 124., 126., 128., 130., 132., 134., 136., 138., 140.],\n",
       "       [142., 144., 146., 148., 150., 152., 154., 156., 158., 160.],\n",
       "       [162., 164., 166., 168., 170., 172., 174., 176., 178., 180.],\n",
       "       [182., 184., 186., 188., 190., 192., 194., 196., 198., 200.]])"
      ]
     },
     "execution_count": 74,
     "metadata": {},
     "output_type": "execute_result"
    }
   ],
   "source": [
    "a + b"
   ]
  },
  {
   "cell_type": "code",
   "execution_count": 75,
   "id": "4ad2d3e0",
   "metadata": {},
   "outputs": [
    {
     "data": {
      "text/plain": [
       "array([[0., 0., 0., 0., 0., 0., 0., 0., 0., 0.],\n",
       "       [0., 0., 0., 0., 0., 0., 0., 0., 0., 0.],\n",
       "       [0., 0., 0., 0., 0., 0., 0., 0., 0., 0.],\n",
       "       [0., 0., 0., 0., 0., 0., 0., 0., 0., 0.],\n",
       "       [0., 0., 0., 0., 0., 0., 0., 0., 0., 0.],\n",
       "       [0., 0., 0., 0., 0., 0., 0., 0., 0., 0.],\n",
       "       [0., 0., 0., 0., 0., 0., 0., 0., 0., 0.],\n",
       "       [0., 0., 0., 0., 0., 0., 0., 0., 0., 0.],\n",
       "       [0., 0., 0., 0., 0., 0., 0., 0., 0., 0.],\n",
       "       [0., 0., 0., 0., 0., 0., 0., 0., 0., 0.]])"
      ]
     },
     "execution_count": 75,
     "metadata": {},
     "output_type": "execute_result"
    }
   ],
   "source": [
    "a - b "
   ]
  },
  {
   "cell_type": "markdown",
   "id": "77da0b69",
   "metadata": {
    "direction": "rtl"
   },
   "source": [
    "<span style='font-family:XB Niloofar;font-size:17px'>\n",
    "برای این که میانگین یک ماتریس را بدست آوریم :"
   ]
  },
  {
   "cell_type": "code",
   "execution_count": 77,
   "id": "bf852c44",
   "metadata": {},
   "outputs": [
    {
     "data": {
      "text/plain": [
       "50.5"
      ]
     },
     "execution_count": 77,
     "metadata": {},
     "output_type": "execute_result"
    }
   ],
   "source": [
    "np.mean(a)"
   ]
  },
  {
   "cell_type": "markdown",
   "id": "596f4c02",
   "metadata": {
    "direction": "rtl"
   },
   "source": [
    "<span style='font-family:XB Niloofar;font-size:17px'>\n",
    "برای این که میانه یک ماتریس را بدست آوریم :"
   ]
  },
  {
   "cell_type": "code",
   "execution_count": 78,
   "id": "c08703a0",
   "metadata": {},
   "outputs": [
    {
     "data": {
      "text/plain": [
       "50.5"
      ]
     },
     "execution_count": 78,
     "metadata": {},
     "output_type": "execute_result"
    }
   ],
   "source": [
    "np.median(a)"
   ]
  },
  {
   "cell_type": "markdown",
   "id": "0f6d5ea3",
   "metadata": {
    "direction": "rtl"
   },
   "source": [
    "<span style='font-family:XB Niloofar;font-size:17px'>\n",
    "برای این که واریانس یک ماتریس را بدست آوریم :"
   ]
  },
  {
   "cell_type": "code",
   "execution_count": 79,
   "id": "2c797608",
   "metadata": {},
   "outputs": [
    {
     "data": {
      "text/plain": [
       "833.25"
      ]
     },
     "execution_count": 79,
     "metadata": {},
     "output_type": "execute_result"
    }
   ],
   "source": [
    "np.var(a)"
   ]
  },
  {
   "cell_type": "markdown",
   "id": "4e1ea439",
   "metadata": {
    "direction": "rtl"
   },
   "source": [
    "<span style='font-family:XB Niloofar;font-size:17px'>\n",
    "برای این که انحراف معیار یک ماتریس را بدست آوریم :"
   ]
  },
  {
   "cell_type": "code",
   "execution_count": 80,
   "id": "8327af9d",
   "metadata": {},
   "outputs": [
    {
     "data": {
      "text/plain": [
       "28.86607004772212"
      ]
     },
     "execution_count": 80,
     "metadata": {},
     "output_type": "execute_result"
    }
   ],
   "source": [
    "np.std(a)"
   ]
  },
  {
   "cell_type": "markdown",
   "id": "5d421e05",
   "metadata": {
    "direction": "rtl"
   },
   "source": [
    "<span style='font-family:XB Niloofar;font-size:19px'>\n",
    "حالا به بررسی مهم تفاوت copy,view,= در نامپای می پردازیم :"
   ]
  },
  {
   "cell_type": "markdown",
   "id": "9727fe11",
   "metadata": {
    "direction": "rtl"
   },
   "source": [
    "<span style='font-family:XB Niloofar;font-size:17px'>\n",
    "اگر دو ماتریس را برابر هم قرار دهیم هر دو در یک مکان حافظه قرار میگیرند و اگر در یکی تغییر اعمال کنیم در دومی هم تغییر اعمال میشود :"
   ]
  },
  {
   "cell_type": "code",
   "execution_count": 81,
   "id": "fb497947",
   "metadata": {},
   "outputs": [],
   "source": [
    "d = np.random.randint(0,50,size =(3,5))"
   ]
  },
  {
   "cell_type": "code",
   "execution_count": 83,
   "id": "6ed695e3",
   "metadata": {},
   "outputs": [
    {
     "data": {
      "text/plain": [
       "array([[38,  6, 49, 39, 37],\n",
       "       [31, 43, 17, 32,  1],\n",
       "       [49, 29, 18, 32,  5]])"
      ]
     },
     "execution_count": 83,
     "metadata": {},
     "output_type": "execute_result"
    }
   ],
   "source": [
    "d"
   ]
  },
  {
   "cell_type": "code",
   "execution_count": 85,
   "id": "c69b2757",
   "metadata": {},
   "outputs": [],
   "source": [
    "d = a"
   ]
  },
  {
   "cell_type": "code",
   "execution_count": 87,
   "id": "4f1d671a",
   "metadata": {},
   "outputs": [
    {
     "data": {
      "text/plain": [
       "array([[  1,   2,   3,   4,   5,   6,   7,   8,   9,  10],\n",
       "       [ 11,  12,  13,  14,  15,  16,  17,  18,  19,  20],\n",
       "       [ 21,  22,  23,  24,  25,  26,  27,  28,  29,  30],\n",
       "       [ 31,  32,  33,  34,  35,  36,  37,  38,  39,  40],\n",
       "       [ 41,  42,  43,  44,  45,  46,  47,  48,  49,  50],\n",
       "       [ 51,  52,  53,  54,  55,  56,  57,  58,  59,  60],\n",
       "       [ 61,  62,  63,  64,  65,  66,  67,  68,  69,  70],\n",
       "       [ 71,  72,  73,  74,  75,  76,  77,  78,  79,  80],\n",
       "       [ 81,  82,  83,  84,  85,  86,  87,  88,  89,  90],\n",
       "       [ 91,  92,  93,  94,  95,  96,  97,  98,  99, 100]])"
      ]
     },
     "execution_count": 87,
     "metadata": {},
     "output_type": "execute_result"
    }
   ],
   "source": [
    "a"
   ]
  },
  {
   "cell_type": "code",
   "execution_count": 88,
   "id": "8a7b10f7",
   "metadata": {},
   "outputs": [
    {
     "data": {
      "text/plain": [
       "array([[  1,   2,   3,   4,   5,   6,   7,   8,   9,  10],\n",
       "       [ 11,  12,  13,  14,  15,  16,  17,  18,  19,  20],\n",
       "       [ 21,  22,  23,  24,  25,  26,  27,  28,  29,  30],\n",
       "       [ 31,  32,  33,  34,  35,  36,  37,  38,  39,  40],\n",
       "       [ 41,  42,  43,  44,  45,  46,  47,  48,  49,  50],\n",
       "       [ 51,  52,  53,  54,  55,  56,  57,  58,  59,  60],\n",
       "       [ 61,  62,  63,  64,  65,  66,  67,  68,  69,  70],\n",
       "       [ 71,  72,  73,  74,  75,  76,  77,  78,  79,  80],\n",
       "       [ 81,  82,  83,  84,  85,  86,  87,  88,  89,  90],\n",
       "       [ 91,  92,  93,  94,  95,  96,  97,  98,  99, 100]])"
      ]
     },
     "execution_count": 88,
     "metadata": {},
     "output_type": "execute_result"
    }
   ],
   "source": [
    "d"
   ]
  },
  {
   "cell_type": "code",
   "execution_count": 89,
   "id": "892dac67",
   "metadata": {},
   "outputs": [],
   "source": [
    "a[2][4]=100"
   ]
  },
  {
   "cell_type": "code",
   "execution_count": 90,
   "id": "ec708112",
   "metadata": {},
   "outputs": [
    {
     "data": {
      "text/plain": [
       "array([[  1,   2,   3,   4,   5,   6,   7,   8,   9,  10],\n",
       "       [ 11,  12,  13,  14,  15,  16,  17,  18,  19,  20],\n",
       "       [ 21,  22,  23,  24, 100,  26,  27,  28,  29,  30],\n",
       "       [ 31,  32,  33,  34,  35,  36,  37,  38,  39,  40],\n",
       "       [ 41,  42,  43,  44,  45,  46,  47,  48,  49,  50],\n",
       "       [ 51,  52,  53,  54,  55,  56,  57,  58,  59,  60],\n",
       "       [ 61,  62,  63,  64,  65,  66,  67,  68,  69,  70],\n",
       "       [ 71,  72,  73,  74,  75,  76,  77,  78,  79,  80],\n",
       "       [ 81,  82,  83,  84,  85,  86,  87,  88,  89,  90],\n",
       "       [ 91,  92,  93,  94,  95,  96,  97,  98,  99, 100]])"
      ]
     },
     "execution_count": 90,
     "metadata": {},
     "output_type": "execute_result"
    }
   ],
   "source": [
    "a"
   ]
  },
  {
   "cell_type": "code",
   "execution_count": 91,
   "id": "2fb23d53",
   "metadata": {},
   "outputs": [
    {
     "data": {
      "text/plain": [
       "array([[  1,   2,   3,   4,   5,   6,   7,   8,   9,  10],\n",
       "       [ 11,  12,  13,  14,  15,  16,  17,  18,  19,  20],\n",
       "       [ 21,  22,  23,  24, 100,  26,  27,  28,  29,  30],\n",
       "       [ 31,  32,  33,  34,  35,  36,  37,  38,  39,  40],\n",
       "       [ 41,  42,  43,  44,  45,  46,  47,  48,  49,  50],\n",
       "       [ 51,  52,  53,  54,  55,  56,  57,  58,  59,  60],\n",
       "       [ 61,  62,  63,  64,  65,  66,  67,  68,  69,  70],\n",
       "       [ 71,  72,  73,  74,  75,  76,  77,  78,  79,  80],\n",
       "       [ 81,  82,  83,  84,  85,  86,  87,  88,  89,  90],\n",
       "       [ 91,  92,  93,  94,  95,  96,  97,  98,  99, 100]])"
      ]
     },
     "execution_count": 91,
     "metadata": {},
     "output_type": "execute_result"
    }
   ],
   "source": [
    "d"
   ]
  },
  {
   "cell_type": "markdown",
   "id": "429ccc0f",
   "metadata": {
    "direction": "rtl"
   },
   "source": [
    "<span style='font-family:XB Niloofar;font-size:17px'>\n",
    "اگر از view استفاده کنیم برای مساوی در یک مکان حافظه قرار نمی گیرند ولی اگر تغییری اعمال کنیم در دومی هم تغییر اعمال میشود "
   ]
  },
  {
   "cell_type": "markdown",
   "id": "0a55377e",
   "metadata": {
    "direction": "rtl"
   },
   "source": [
    "<span style='font-family:XB Niloofar;font-size:17px'>\n",
    "اگر از copy استفاده کنیم ، نه در یک حافظه قرار میگیرند و نه در یکی تغییر اعمال کنیم در دیگری اعمال منشود"
   ]
  },
  {
   "cell_type": "code",
   "execution_count": null,
   "id": "e71ad77c",
   "metadata": {},
   "outputs": [],
   "source": []
  }
 ],
 "metadata": {
  "kernelspec": {
   "display_name": "Python 3 (ipykernel)",
   "language": "python",
   "name": "python3"
  },
  "language_info": {
   "codemirror_mode": {
    "name": "ipython",
    "version": 3
   },
   "file_extension": ".py",
   "mimetype": "text/x-python",
   "name": "python",
   "nbconvert_exporter": "python",
   "pygments_lexer": "ipython3",
   "version": "3.11.5"
  }
 },
 "nbformat": 4,
 "nbformat_minor": 5
}
