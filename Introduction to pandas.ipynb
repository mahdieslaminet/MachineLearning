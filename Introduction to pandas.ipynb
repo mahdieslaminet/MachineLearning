{
 "cells": [
  {
   "cell_type": "markdown",
   "id": "cd87659e",
   "metadata": {
    "direction": "ltr"
   },
   "source": [
    "#  pandas library"
   ]
  },
  {
   "cell_type": "markdown",
   "id": "b0641612",
   "metadata": {
    "direction": "rtl"
   },
   "source": [
    "<span style='font-family:XB Niloofar;font-size:17px'>\n",
    "«پانداس» (Pandas)، یک کتابخانه «متن‌باز» (Open Source) با گواهینامه BSD است که کارایی بالا، ساختاری با قابلیت استفاده آسان و ابزارهای تحلیل داده برای «زبان برنامه‌نویسی پایتون» (Python Programming Language) را فراهم می‌کند. در واقع، می‌توان گفت پانداس یک کتابخانه قدرتمند برای تحلیل، «پیش‌پردازش» (PreProcessing) و «بصری‌سازی» (Visualization) داده‌ها است. گفته می‌شود که کاربران این کتابخانه از سال ۲۰۱۴ تا ۲۰۱۸، از ۵ میلیون به ۱۰ میلیون نفر افزایش پیدا کرده‌اند و اکنون دیگر این کتابخانه به ابزاری که «باید» از آن برای کارهای مربوط به «علم داده» (Data Science) در پایتون استفاده کرد، مبدل شده است. حامی مالی پروژه پانداس، سازمان غیرانتفاعی «NumFOCUS» است"
   ]
  },
  {
   "cell_type": "markdown",
   "id": "703c7e2d",
   "metadata": {
    "direction": "rtl"
   },
   "source": [
    "<span style='font-family:XB Niloofar;font-size:17px'>\n",
    "مانند نامپای برای شروع کار با پانداس باید کتابخانه آن را اضافه کرد ، توجه کنید که اگر مفسر پایتون ارور داد باید آن را از طریق powershell با ابزار pip یا  conda نصب کنید"
   ]
  },
  {
   "cell_type": "code",
   "execution_count": 1,
   "id": "fd47eebe",
   "metadata": {},
   "outputs": [],
   "source": [
    "import pandas as pd"
   ]
  },
  {
   "cell_type": "code",
   "execution_count": 2,
   "id": "f49f3411",
   "metadata": {},
   "outputs": [],
   "source": [
    "label = [\"a1\",\"b1\",\"c1\"]\n",
    "mylist = [10,20,30]"
   ]
  },
  {
   "cell_type": "code",
   "execution_count": 3,
   "id": "a2903f70",
   "metadata": {},
   "outputs": [
    {
     "data": {
      "text/plain": [
       "a1    10\n",
       "b1    20\n",
       "c1    30\n",
       "dtype: int64"
      ]
     },
     "execution_count": 3,
     "metadata": {},
     "output_type": "execute_result"
    }
   ],
   "source": [
    "pd.Series(mylist,label)"
   ]
  },
  {
   "cell_type": "markdown",
   "id": "4c6a2597",
   "metadata": {
    "direction": "rtl"
   },
   "source": [
    "<span style='font-family:XB Niloofar;font-size:17px'>\n",
    "پانداس براساس دو datatype اصلی series و dataframe برقرار است که در ادامه به تفصیل آن ها را بررسی میکنیم :"
   ]
  },
  {
   "cell_type": "markdown",
   "id": "d8848baf",
   "metadata": {
    "direction": "rtl"
   },
   "source": [
    "<span style='font-family:XB Niloofar;font-size:17px'>\n",
    "اگر دیتای ما دیکشنری بود خودش مستقیم به سری تبدیل میکند:"
   ]
  },
  {
   "cell_type": "code",
   "execution_count": 4,
   "id": "c2c93f1e",
   "metadata": {},
   "outputs": [],
   "source": [
    "di = {'a':10,'b':20,'c':30}"
   ]
  },
  {
   "cell_type": "code",
   "execution_count": 5,
   "id": "b03b05e1",
   "metadata": {},
   "outputs": [
    {
     "data": {
      "text/plain": [
       "a    10\n",
       "b    20\n",
       "c    30\n",
       "dtype: int64"
      ]
     },
     "execution_count": 5,
     "metadata": {},
     "output_type": "execute_result"
    }
   ],
   "source": [
    "pd.Series(di)"
   ]
  },
  {
   "cell_type": "markdown",
   "id": "94e7e46d",
   "metadata": {
    "direction": "rtl"
   },
   "source": [
    "<span style='font-family:XB Niloofar;font-size:17px'>\n",
    "حالا میتوانیم به محتوای هر کدام از سطر ها دسترسی داشته باشیم:"
   ]
  },
  {
   "cell_type": "code",
   "execution_count": 6,
   "id": "77d7aea4",
   "metadata": {},
   "outputs": [
    {
     "data": {
      "text/plain": [
       "10"
      ]
     },
     "execution_count": 6,
     "metadata": {},
     "output_type": "execute_result"
    }
   ],
   "source": [
    "di['a']"
   ]
  },
  {
   "cell_type": "markdown",
   "id": "0e57a828",
   "metadata": {
    "direction": "rtl"
   },
   "source": [
    "<span style='font-family:XB Niloofar;font-size:17px'>\n",
    "اگر دیتای ما دیکشنری بود و خودمان بخواهیم لیبل های دیگه بزنیم ، خروجی NaN به ما میدهد ولی برعکس آن امکا پذیر است یعنی اطلاعات یک چیز جدا باشد و لیبل ها از دیکشنری باشد که همان حکم key ها را دارد ."
   ]
  },
  {
   "cell_type": "markdown",
   "id": "02102e8f",
   "metadata": {
    "direction": "rtl"
   },
   "source": [
    "<span style='font-family:XB Niloofar;font-size:17px'>\n",
    "روی سری ها میتوانیم عملیات ریاضی انجام دهیم به شرطی که لیبل یکسان داشته باشند توجه کنید زبان پایتون به کوچک و بزرگ بودن حروف حساس است :"
   ]
  },
  {
   "cell_type": "code",
   "execution_count": 7,
   "id": "dc1961a2",
   "metadata": {},
   "outputs": [],
   "source": [
    "ser1 = pd.Series([4.2,5,6,7],['uk','usa','ir','japan'])"
   ]
  },
  {
   "cell_type": "code",
   "execution_count": 8,
   "id": "08ba1f41",
   "metadata": {},
   "outputs": [],
   "source": [
    "ser2 = pd.Series([9,1,34,90],['uk','usa','ir','japan'])"
   ]
  },
  {
   "cell_type": "code",
   "execution_count": 9,
   "id": "cab064e5",
   "metadata": {},
   "outputs": [
    {
     "data": {
      "text/plain": [
       "uk       13.2\n",
       "usa       6.0\n",
       "ir       40.0\n",
       "japan    97.0\n",
       "dtype: float64"
      ]
     },
     "execution_count": 9,
     "metadata": {},
     "output_type": "execute_result"
    }
   ],
   "source": [
    "ser1 + ser2"
   ]
  },
  {
   "cell_type": "markdown",
   "id": "e406c1a8",
   "metadata": {
    "direction": "rtl"
   },
   "source": [
    "<span style='font-family:XB Niloofar;font-size:17px'>\n",
    "حالا موردی را بررسی میکنیم که لیبل های یکسان ندارند :"
   ]
  },
  {
   "cell_type": "code",
   "execution_count": 10,
   "id": "d0208a20",
   "metadata": {},
   "outputs": [],
   "source": [
    "ser1 = pd.Series([4.2,5,6,7],['uk','usa','ir','japan'])"
   ]
  },
  {
   "cell_type": "code",
   "execution_count": 11,
   "id": "4264786f",
   "metadata": {},
   "outputs": [],
   "source": [
    "ser2 = pd.Series([9,1,34,90],['uk','uSa','ir','japan'])"
   ]
  },
  {
   "cell_type": "code",
   "execution_count": 12,
   "id": "270f0c54",
   "metadata": {},
   "outputs": [
    {
     "data": {
      "text/plain": [
       "ir       40.0\n",
       "japan    97.0\n",
       "uSa       NaN\n",
       "uk       13.2\n",
       "usa       NaN\n",
       "dtype: float64"
      ]
     },
     "execution_count": 12,
     "metadata": {},
     "output_type": "execute_result"
    }
   ],
   "source": [
    "ser1 + ser2"
   ]
  },
  {
   "cell_type": "markdown",
   "id": "4430c15b",
   "metadata": {
    "direction": "rtl"
   },
   "source": [
    "<span style='font-family:XB Niloofar;font-size:17px'>\n",
    "همانطور که میبینید usa و uSa را دو لیبل حساب کرده و مقدار NaN برگردونده چون در عملیات ریاضی حساب نمی شوند"
   ]
  },
  {
   "cell_type": "markdown",
   "id": "8cf616c6",
   "metadata": {
    "direction": "rtl"
   },
   "source": [
    "<span style='font-family:XB Niloofar;font-size:17px'>\n",
    "اگر دیتای دوبعدی خواستیم درست کنیم از Dataframe استفاده میکنیم :"
   ]
  },
  {
   "cell_type": "code",
   "execution_count": 13,
   "id": "e4ebf289",
   "metadata": {},
   "outputs": [],
   "source": [
    "import numpy as np"
   ]
  },
  {
   "cell_type": "code",
   "execution_count": 14,
   "id": "e2ea082d",
   "metadata": {},
   "outputs": [],
   "source": [
    "data = np.random.randint(1,20,(4,5))"
   ]
  },
  {
   "cell_type": "code",
   "execution_count": 15,
   "id": "4867f9ba",
   "metadata": {},
   "outputs": [],
   "source": [
    "df = pd.DataFrame(data,['A','B','C','D'],['E','F','G','H','I'])"
   ]
  },
  {
   "cell_type": "markdown",
   "id": "5c489d0c",
   "metadata": {
    "direction": "rtl"
   },
   "source": [
    "<span style='font-family:XB Niloofar;font-size:17px'>\n",
    "در اینجا ابتدا در پارامترها دیتا را انتخاب میکنیم (که یک ماتریس رندوم هست که در سلول قبلی درست کردیم)،سپس سطرها انتخاب میشوند و بعد ستون ها"
   ]
  },
  {
   "cell_type": "code",
   "execution_count": 16,
   "id": "7cd7361b",
   "metadata": {},
   "outputs": [
    {
     "data": {
      "text/html": [
       "<div>\n",
       "<style scoped>\n",
       "    .dataframe tbody tr th:only-of-type {\n",
       "        vertical-align: middle;\n",
       "    }\n",
       "\n",
       "    .dataframe tbody tr th {\n",
       "        vertical-align: top;\n",
       "    }\n",
       "\n",
       "    .dataframe thead th {\n",
       "        text-align: right;\n",
       "    }\n",
       "</style>\n",
       "<table border=\"1\" class=\"dataframe\">\n",
       "  <thead>\n",
       "    <tr style=\"text-align: right;\">\n",
       "      <th></th>\n",
       "      <th>E</th>\n",
       "      <th>F</th>\n",
       "      <th>G</th>\n",
       "      <th>H</th>\n",
       "      <th>I</th>\n",
       "    </tr>\n",
       "  </thead>\n",
       "  <tbody>\n",
       "    <tr>\n",
       "      <th>A</th>\n",
       "      <td>7</td>\n",
       "      <td>19</td>\n",
       "      <td>12</td>\n",
       "      <td>12</td>\n",
       "      <td>19</td>\n",
       "    </tr>\n",
       "    <tr>\n",
       "      <th>B</th>\n",
       "      <td>9</td>\n",
       "      <td>5</td>\n",
       "      <td>3</td>\n",
       "      <td>11</td>\n",
       "      <td>1</td>\n",
       "    </tr>\n",
       "    <tr>\n",
       "      <th>C</th>\n",
       "      <td>7</td>\n",
       "      <td>14</td>\n",
       "      <td>11</td>\n",
       "      <td>19</td>\n",
       "      <td>14</td>\n",
       "    </tr>\n",
       "    <tr>\n",
       "      <th>D</th>\n",
       "      <td>12</td>\n",
       "      <td>1</td>\n",
       "      <td>11</td>\n",
       "      <td>17</td>\n",
       "      <td>16</td>\n",
       "    </tr>\n",
       "  </tbody>\n",
       "</table>\n",
       "</div>"
      ],
      "text/plain": [
       "    E   F   G   H   I\n",
       "A   7  19  12  12  19\n",
       "B   9   5   3  11   1\n",
       "C   7  14  11  19  14\n",
       "D  12   1  11  17  16"
      ]
     },
     "execution_count": 16,
     "metadata": {},
     "output_type": "execute_result"
    }
   ],
   "source": [
    "df"
   ]
  },
  {
   "cell_type": "markdown",
   "id": "a8fe5aa5",
   "metadata": {
    "direction": "rtl"
   },
   "source": [
    "<span style='font-family:XB Niloofar;font-size:17px'>\n",
    "برای دسترسی به المان ها ، برعکس نامپای ابتدا باید ستون ها را انتخاب کرد سپس سطر ها .  \n",
    "  \n",
    "اگر نخواستیم از این الگو پیروی کنیم باید از توابع دیگر استفاده کنیم که جلوتر آن ها را بیان میکنیم "
   ]
  },
  {
   "cell_type": "code",
   "execution_count": 17,
   "id": "18832623",
   "metadata": {},
   "outputs": [
    {
     "data": {
      "text/plain": [
       "7"
      ]
     },
     "execution_count": 17,
     "metadata": {},
     "output_type": "execute_result"
    }
   ],
   "source": [
    "df['E']['A']"
   ]
  },
  {
   "cell_type": "code",
   "execution_count": 18,
   "id": "f32cfe40",
   "metadata": {},
   "outputs": [
    {
     "data": {
      "text/html": [
       "<div>\n",
       "<style scoped>\n",
       "    .dataframe tbody tr th:only-of-type {\n",
       "        vertical-align: middle;\n",
       "    }\n",
       "\n",
       "    .dataframe tbody tr th {\n",
       "        vertical-align: top;\n",
       "    }\n",
       "\n",
       "    .dataframe thead th {\n",
       "        text-align: right;\n",
       "    }\n",
       "</style>\n",
       "<table border=\"1\" class=\"dataframe\">\n",
       "  <thead>\n",
       "    <tr style=\"text-align: right;\">\n",
       "      <th></th>\n",
       "      <th>E</th>\n",
       "      <th>G</th>\n",
       "    </tr>\n",
       "  </thead>\n",
       "  <tbody>\n",
       "    <tr>\n",
       "      <th>A</th>\n",
       "      <td>7</td>\n",
       "      <td>12</td>\n",
       "    </tr>\n",
       "    <tr>\n",
       "      <th>B</th>\n",
       "      <td>9</td>\n",
       "      <td>3</td>\n",
       "    </tr>\n",
       "    <tr>\n",
       "      <th>C</th>\n",
       "      <td>7</td>\n",
       "      <td>11</td>\n",
       "    </tr>\n",
       "    <tr>\n",
       "      <th>D</th>\n",
       "      <td>12</td>\n",
       "      <td>11</td>\n",
       "    </tr>\n",
       "  </tbody>\n",
       "</table>\n",
       "</div>"
      ],
      "text/plain": [
       "    E   G\n",
       "A   7  12\n",
       "B   9   3\n",
       "C   7  11\n",
       "D  12  11"
      ]
     },
     "execution_count": 18,
     "metadata": {},
     "output_type": "execute_result"
    }
   ],
   "source": [
    "df[['E','G']]"
   ]
  },
  {
   "cell_type": "markdown",
   "id": "fed486b3",
   "metadata": {
    "direction": "rtl"
   },
   "source": [
    "<span style='font-family:XB Niloofar;font-size:17px'>\n",
    "همانطور که میبینید ، میتوانیم چند سطر و ستون را انتخاب کنیم :"
   ]
  },
  {
   "cell_type": "markdown",
   "id": "a0ca7e8c",
   "metadata": {
    "direction": "rtl"
   },
   "source": [
    "<span style='font-family:XB Niloofar;font-size:17px'>\n",
    "با استفاده از دستور های loc , iloc  هم میتوانیم به محتوا دسترسی داشته باشیم :"
   ]
  },
  {
   "cell_type": "code",
   "execution_count": 19,
   "id": "62bd0931",
   "metadata": {},
   "outputs": [
    {
     "data": {
      "text/plain": [
       "12"
      ]
     },
     "execution_count": 19,
     "metadata": {},
     "output_type": "execute_result"
    }
   ],
   "source": [
    "df.loc['A','G']"
   ]
  },
  {
   "cell_type": "code",
   "execution_count": 20,
   "id": "9e1a61b9",
   "metadata": {},
   "outputs": [
    {
     "data": {
      "text/plain": [
       "19"
      ]
     },
     "execution_count": 20,
     "metadata": {},
     "output_type": "execute_result"
    }
   ],
   "source": [
    "df.iloc[0,1]"
   ]
  },
  {
   "cell_type": "code",
   "execution_count": 21,
   "id": "68498f25",
   "metadata": {},
   "outputs": [
    {
     "data": {
      "text/html": [
       "<div>\n",
       "<style scoped>\n",
       "    .dataframe tbody tr th:only-of-type {\n",
       "        vertical-align: middle;\n",
       "    }\n",
       "\n",
       "    .dataframe tbody tr th {\n",
       "        vertical-align: top;\n",
       "    }\n",
       "\n",
       "    .dataframe thead th {\n",
       "        text-align: right;\n",
       "    }\n",
       "</style>\n",
       "<table border=\"1\" class=\"dataframe\">\n",
       "  <thead>\n",
       "    <tr style=\"text-align: right;\">\n",
       "      <th></th>\n",
       "      <th>E</th>\n",
       "      <th>F</th>\n",
       "      <th>G</th>\n",
       "      <th>H</th>\n",
       "      <th>I</th>\n",
       "    </tr>\n",
       "  </thead>\n",
       "  <tbody>\n",
       "    <tr>\n",
       "      <th>A</th>\n",
       "      <td>7</td>\n",
       "      <td>19</td>\n",
       "      <td>12</td>\n",
       "      <td>12</td>\n",
       "      <td>19</td>\n",
       "    </tr>\n",
       "    <tr>\n",
       "      <th>B</th>\n",
       "      <td>9</td>\n",
       "      <td>5</td>\n",
       "      <td>3</td>\n",
       "      <td>11</td>\n",
       "      <td>1</td>\n",
       "    </tr>\n",
       "    <tr>\n",
       "      <th>C</th>\n",
       "      <td>7</td>\n",
       "      <td>14</td>\n",
       "      <td>11</td>\n",
       "      <td>19</td>\n",
       "      <td>14</td>\n",
       "    </tr>\n",
       "    <tr>\n",
       "      <th>D</th>\n",
       "      <td>12</td>\n",
       "      <td>1</td>\n",
       "      <td>11</td>\n",
       "      <td>17</td>\n",
       "      <td>16</td>\n",
       "    </tr>\n",
       "  </tbody>\n",
       "</table>\n",
       "</div>"
      ],
      "text/plain": [
       "    E   F   G   H   I\n",
       "A   7  19  12  12  19\n",
       "B   9   5   3  11   1\n",
       "C   7  14  11  19  14\n",
       "D  12   1  11  17  16"
      ]
     },
     "execution_count": 21,
     "metadata": {},
     "output_type": "execute_result"
    }
   ],
   "source": [
    "df"
   ]
  },
  {
   "cell_type": "markdown",
   "id": "9871e817",
   "metadata": {
    "direction": "rtl"
   },
   "source": [
    "<span style='font-family:XB Niloofar;font-size:17px'>\n",
    "در این توابع مثل نامپای اول سطر انتخاب میشود و سپس ستون  \n",
    "  \n",
    "تابع loc باید حروف سطر و ستون را گفت ولی iloc برحسب شماره میگوییم :"
   ]
  },
  {
   "cell_type": "markdown",
   "id": "e89e841e",
   "metadata": {
    "direction": "rtl"
   },
   "source": [
    "<span style='font-family:XB Niloofar;font-size:17px'>\n",
    "میتوان یک سطر یا ستون به دیتافریم خود اضافه کنیم : "
   ]
  },
  {
   "cell_type": "code",
   "execution_count": 22,
   "id": "985b8f39",
   "metadata": {},
   "outputs": [],
   "source": [
    "df['S'] = [1,1,1,1]"
   ]
  },
  {
   "cell_type": "code",
   "execution_count": 23,
   "id": "9c401a88",
   "metadata": {},
   "outputs": [
    {
     "data": {
      "text/html": [
       "<div>\n",
       "<style scoped>\n",
       "    .dataframe tbody tr th:only-of-type {\n",
       "        vertical-align: middle;\n",
       "    }\n",
       "\n",
       "    .dataframe tbody tr th {\n",
       "        vertical-align: top;\n",
       "    }\n",
       "\n",
       "    .dataframe thead th {\n",
       "        text-align: right;\n",
       "    }\n",
       "</style>\n",
       "<table border=\"1\" class=\"dataframe\">\n",
       "  <thead>\n",
       "    <tr style=\"text-align: right;\">\n",
       "      <th></th>\n",
       "      <th>E</th>\n",
       "      <th>F</th>\n",
       "      <th>G</th>\n",
       "      <th>H</th>\n",
       "      <th>I</th>\n",
       "      <th>S</th>\n",
       "    </tr>\n",
       "  </thead>\n",
       "  <tbody>\n",
       "    <tr>\n",
       "      <th>A</th>\n",
       "      <td>7</td>\n",
       "      <td>19</td>\n",
       "      <td>12</td>\n",
       "      <td>12</td>\n",
       "      <td>19</td>\n",
       "      <td>1</td>\n",
       "    </tr>\n",
       "    <tr>\n",
       "      <th>B</th>\n",
       "      <td>9</td>\n",
       "      <td>5</td>\n",
       "      <td>3</td>\n",
       "      <td>11</td>\n",
       "      <td>1</td>\n",
       "      <td>1</td>\n",
       "    </tr>\n",
       "    <tr>\n",
       "      <th>C</th>\n",
       "      <td>7</td>\n",
       "      <td>14</td>\n",
       "      <td>11</td>\n",
       "      <td>19</td>\n",
       "      <td>14</td>\n",
       "      <td>1</td>\n",
       "    </tr>\n",
       "    <tr>\n",
       "      <th>D</th>\n",
       "      <td>12</td>\n",
       "      <td>1</td>\n",
       "      <td>11</td>\n",
       "      <td>17</td>\n",
       "      <td>16</td>\n",
       "      <td>1</td>\n",
       "    </tr>\n",
       "  </tbody>\n",
       "</table>\n",
       "</div>"
      ],
      "text/plain": [
       "    E   F   G   H   I  S\n",
       "A   7  19  12  12  19  1\n",
       "B   9   5   3  11   1  1\n",
       "C   7  14  11  19  14  1\n",
       "D  12   1  11  17  16  1"
      ]
     },
     "execution_count": 23,
     "metadata": {},
     "output_type": "execute_result"
    }
   ],
   "source": [
    "df"
   ]
  },
  {
   "cell_type": "markdown",
   "id": "db5c63fa",
   "metadata": {
    "direction": "rtl"
   },
   "source": [
    "<span style='font-family:XB Niloofar;font-size:17px'>\n",
    "میتوان ستون یا سطر را با دستور drop پاک کنیم پارامتر axis سطرو ستون را مشخص میکند، یک یعنی ستون و صفر یعنی سطر : "
   ]
  },
  {
   "cell_type": "code",
   "execution_count": 24,
   "id": "581ac3cd",
   "metadata": {},
   "outputs": [
    {
     "data": {
      "text/html": [
       "<div>\n",
       "<style scoped>\n",
       "    .dataframe tbody tr th:only-of-type {\n",
       "        vertical-align: middle;\n",
       "    }\n",
       "\n",
       "    .dataframe tbody tr th {\n",
       "        vertical-align: top;\n",
       "    }\n",
       "\n",
       "    .dataframe thead th {\n",
       "        text-align: right;\n",
       "    }\n",
       "</style>\n",
       "<table border=\"1\" class=\"dataframe\">\n",
       "  <thead>\n",
       "    <tr style=\"text-align: right;\">\n",
       "      <th></th>\n",
       "      <th>E</th>\n",
       "      <th>F</th>\n",
       "      <th>G</th>\n",
       "      <th>H</th>\n",
       "      <th>I</th>\n",
       "    </tr>\n",
       "  </thead>\n",
       "  <tbody>\n",
       "    <tr>\n",
       "      <th>A</th>\n",
       "      <td>7</td>\n",
       "      <td>19</td>\n",
       "      <td>12</td>\n",
       "      <td>12</td>\n",
       "      <td>19</td>\n",
       "    </tr>\n",
       "    <tr>\n",
       "      <th>B</th>\n",
       "      <td>9</td>\n",
       "      <td>5</td>\n",
       "      <td>3</td>\n",
       "      <td>11</td>\n",
       "      <td>1</td>\n",
       "    </tr>\n",
       "    <tr>\n",
       "      <th>C</th>\n",
       "      <td>7</td>\n",
       "      <td>14</td>\n",
       "      <td>11</td>\n",
       "      <td>19</td>\n",
       "      <td>14</td>\n",
       "    </tr>\n",
       "    <tr>\n",
       "      <th>D</th>\n",
       "      <td>12</td>\n",
       "      <td>1</td>\n",
       "      <td>11</td>\n",
       "      <td>17</td>\n",
       "      <td>16</td>\n",
       "    </tr>\n",
       "  </tbody>\n",
       "</table>\n",
       "</div>"
      ],
      "text/plain": [
       "    E   F   G   H   I\n",
       "A   7  19  12  12  19\n",
       "B   9   5   3  11   1\n",
       "C   7  14  11  19  14\n",
       "D  12   1  11  17  16"
      ]
     },
     "execution_count": 24,
     "metadata": {},
     "output_type": "execute_result"
    }
   ],
   "source": [
    "df.drop('S',axis=1)"
   ]
  },
  {
   "cell_type": "markdown",
   "id": "a4bbfccd",
   "metadata": {
    "direction": "rtl"
   },
   "source": [
    "<span style='font-family:XB Niloofar;font-size:17px'>\n",
    "ولی همانطور که جلوتر میبیند پاک نشده است چون دیتا خیلی ارزشمند است با یک دستور پاک نمی شود ولی جلوتر در مورد پاک کردن دایمی آن صحبت میکنیم :"
   ]
  },
  {
   "cell_type": "code",
   "execution_count": 25,
   "id": "3c56105d",
   "metadata": {},
   "outputs": [
    {
     "data": {
      "text/html": [
       "<div>\n",
       "<style scoped>\n",
       "    .dataframe tbody tr th:only-of-type {\n",
       "        vertical-align: middle;\n",
       "    }\n",
       "\n",
       "    .dataframe tbody tr th {\n",
       "        vertical-align: top;\n",
       "    }\n",
       "\n",
       "    .dataframe thead th {\n",
       "        text-align: right;\n",
       "    }\n",
       "</style>\n",
       "<table border=\"1\" class=\"dataframe\">\n",
       "  <thead>\n",
       "    <tr style=\"text-align: right;\">\n",
       "      <th></th>\n",
       "      <th>E</th>\n",
       "      <th>F</th>\n",
       "      <th>G</th>\n",
       "      <th>H</th>\n",
       "      <th>I</th>\n",
       "      <th>S</th>\n",
       "    </tr>\n",
       "  </thead>\n",
       "  <tbody>\n",
       "    <tr>\n",
       "      <th>A</th>\n",
       "      <td>7</td>\n",
       "      <td>19</td>\n",
       "      <td>12</td>\n",
       "      <td>12</td>\n",
       "      <td>19</td>\n",
       "      <td>1</td>\n",
       "    </tr>\n",
       "    <tr>\n",
       "      <th>B</th>\n",
       "      <td>9</td>\n",
       "      <td>5</td>\n",
       "      <td>3</td>\n",
       "      <td>11</td>\n",
       "      <td>1</td>\n",
       "      <td>1</td>\n",
       "    </tr>\n",
       "    <tr>\n",
       "      <th>C</th>\n",
       "      <td>7</td>\n",
       "      <td>14</td>\n",
       "      <td>11</td>\n",
       "      <td>19</td>\n",
       "      <td>14</td>\n",
       "      <td>1</td>\n",
       "    </tr>\n",
       "    <tr>\n",
       "      <th>D</th>\n",
       "      <td>12</td>\n",
       "      <td>1</td>\n",
       "      <td>11</td>\n",
       "      <td>17</td>\n",
       "      <td>16</td>\n",
       "      <td>1</td>\n",
       "    </tr>\n",
       "  </tbody>\n",
       "</table>\n",
       "</div>"
      ],
      "text/plain": [
       "    E   F   G   H   I  S\n",
       "A   7  19  12  12  19  1\n",
       "B   9   5   3  11   1  1\n",
       "C   7  14  11  19  14  1\n",
       "D  12   1  11  17  16  1"
      ]
     },
     "execution_count": 25,
     "metadata": {},
     "output_type": "execute_result"
    }
   ],
   "source": [
    "df"
   ]
  },
  {
   "cell_type": "markdown",
   "id": "1d68ab14",
   "metadata": {
    "direction": "rtl"
   },
   "source": [
    "<span style='font-family:XB Niloofar;font-size:17px'>\n",
    "برای پاک کردن دایمی باید پارامتر inplace را true کرد :"
   ]
  },
  {
   "cell_type": "code",
   "execution_count": 26,
   "id": "a69e5b86",
   "metadata": {},
   "outputs": [],
   "source": [
    "df.drop('S',axis=1,inplace=True)"
   ]
  },
  {
   "cell_type": "code",
   "execution_count": 27,
   "id": "3d383be9",
   "metadata": {},
   "outputs": [
    {
     "data": {
      "text/html": [
       "<div>\n",
       "<style scoped>\n",
       "    .dataframe tbody tr th:only-of-type {\n",
       "        vertical-align: middle;\n",
       "    }\n",
       "\n",
       "    .dataframe tbody tr th {\n",
       "        vertical-align: top;\n",
       "    }\n",
       "\n",
       "    .dataframe thead th {\n",
       "        text-align: right;\n",
       "    }\n",
       "</style>\n",
       "<table border=\"1\" class=\"dataframe\">\n",
       "  <thead>\n",
       "    <tr style=\"text-align: right;\">\n",
       "      <th></th>\n",
       "      <th>E</th>\n",
       "      <th>F</th>\n",
       "      <th>G</th>\n",
       "      <th>H</th>\n",
       "      <th>I</th>\n",
       "    </tr>\n",
       "  </thead>\n",
       "  <tbody>\n",
       "    <tr>\n",
       "      <th>A</th>\n",
       "      <td>7</td>\n",
       "      <td>19</td>\n",
       "      <td>12</td>\n",
       "      <td>12</td>\n",
       "      <td>19</td>\n",
       "    </tr>\n",
       "    <tr>\n",
       "      <th>B</th>\n",
       "      <td>9</td>\n",
       "      <td>5</td>\n",
       "      <td>3</td>\n",
       "      <td>11</td>\n",
       "      <td>1</td>\n",
       "    </tr>\n",
       "    <tr>\n",
       "      <th>C</th>\n",
       "      <td>7</td>\n",
       "      <td>14</td>\n",
       "      <td>11</td>\n",
       "      <td>19</td>\n",
       "      <td>14</td>\n",
       "    </tr>\n",
       "    <tr>\n",
       "      <th>D</th>\n",
       "      <td>12</td>\n",
       "      <td>1</td>\n",
       "      <td>11</td>\n",
       "      <td>17</td>\n",
       "      <td>16</td>\n",
       "    </tr>\n",
       "  </tbody>\n",
       "</table>\n",
       "</div>"
      ],
      "text/plain": [
       "    E   F   G   H   I\n",
       "A   7  19  12  12  19\n",
       "B   9   5   3  11   1\n",
       "C   7  14  11  19  14\n",
       "D  12   1  11  17  16"
      ]
     },
     "execution_count": 27,
     "metadata": {},
     "output_type": "execute_result"
    }
   ],
   "source": [
    "df"
   ]
  },
  {
   "cell_type": "markdown",
   "id": "f5e483cd",
   "metadata": {
    "direction": "rtl"
   },
   "source": [
    "<span style='font-family:XB Niloofar;font-size:17px'>\n",
    "روی دیتا ها میتوان بزرگتر و کوچکتر را با True و False بررسی کرد :"
   ]
  },
  {
   "cell_type": "code",
   "execution_count": 28,
   "id": "4762446d",
   "metadata": {},
   "outputs": [
    {
     "data": {
      "text/html": [
       "<div>\n",
       "<style scoped>\n",
       "    .dataframe tbody tr th:only-of-type {\n",
       "        vertical-align: middle;\n",
       "    }\n",
       "\n",
       "    .dataframe tbody tr th {\n",
       "        vertical-align: top;\n",
       "    }\n",
       "\n",
       "    .dataframe thead th {\n",
       "        text-align: right;\n",
       "    }\n",
       "</style>\n",
       "<table border=\"1\" class=\"dataframe\">\n",
       "  <thead>\n",
       "    <tr style=\"text-align: right;\">\n",
       "      <th></th>\n",
       "      <th>E</th>\n",
       "      <th>F</th>\n",
       "      <th>G</th>\n",
       "      <th>H</th>\n",
       "      <th>I</th>\n",
       "    </tr>\n",
       "  </thead>\n",
       "  <tbody>\n",
       "    <tr>\n",
       "      <th>A</th>\n",
       "      <td>False</td>\n",
       "      <td>True</td>\n",
       "      <td>True</td>\n",
       "      <td>True</td>\n",
       "      <td>True</td>\n",
       "    </tr>\n",
       "    <tr>\n",
       "      <th>B</th>\n",
       "      <td>False</td>\n",
       "      <td>False</td>\n",
       "      <td>False</td>\n",
       "      <td>True</td>\n",
       "      <td>False</td>\n",
       "    </tr>\n",
       "    <tr>\n",
       "      <th>C</th>\n",
       "      <td>False</td>\n",
       "      <td>True</td>\n",
       "      <td>True</td>\n",
       "      <td>True</td>\n",
       "      <td>True</td>\n",
       "    </tr>\n",
       "    <tr>\n",
       "      <th>D</th>\n",
       "      <td>True</td>\n",
       "      <td>False</td>\n",
       "      <td>True</td>\n",
       "      <td>True</td>\n",
       "      <td>True</td>\n",
       "    </tr>\n",
       "  </tbody>\n",
       "</table>\n",
       "</div>"
      ],
      "text/plain": [
       "       E      F      G     H      I\n",
       "A  False   True   True  True   True\n",
       "B  False  False  False  True  False\n",
       "C  False   True   True  True   True\n",
       "D   True  False   True  True   True"
      ]
     },
     "execution_count": 28,
     "metadata": {},
     "output_type": "execute_result"
    }
   ],
   "source": [
    "df>10"
   ]
  },
  {
   "cell_type": "markdown",
   "id": "ce498d30",
   "metadata": {
    "direction": "rtl"
   },
   "source": [
    "<span style='font-family:XB Niloofar;font-size:17px'>\n",
    "اگر بخواهیم اعداد را ببینیم و فقط اون هایی که قابلیت رو ندارن حالت NaN داشته باشند :"
   ]
  },
  {
   "cell_type": "code",
   "execution_count": 29,
   "id": "63a5af30",
   "metadata": {},
   "outputs": [
    {
     "data": {
      "text/html": [
       "<div>\n",
       "<style scoped>\n",
       "    .dataframe tbody tr th:only-of-type {\n",
       "        vertical-align: middle;\n",
       "    }\n",
       "\n",
       "    .dataframe tbody tr th {\n",
       "        vertical-align: top;\n",
       "    }\n",
       "\n",
       "    .dataframe thead th {\n",
       "        text-align: right;\n",
       "    }\n",
       "</style>\n",
       "<table border=\"1\" class=\"dataframe\">\n",
       "  <thead>\n",
       "    <tr style=\"text-align: right;\">\n",
       "      <th></th>\n",
       "      <th>E</th>\n",
       "      <th>F</th>\n",
       "      <th>G</th>\n",
       "      <th>H</th>\n",
       "      <th>I</th>\n",
       "    </tr>\n",
       "  </thead>\n",
       "  <tbody>\n",
       "    <tr>\n",
       "      <th>A</th>\n",
       "      <td>NaN</td>\n",
       "      <td>19.0</td>\n",
       "      <td>12.0</td>\n",
       "      <td>12</td>\n",
       "      <td>19.0</td>\n",
       "    </tr>\n",
       "    <tr>\n",
       "      <th>B</th>\n",
       "      <td>NaN</td>\n",
       "      <td>NaN</td>\n",
       "      <td>NaN</td>\n",
       "      <td>11</td>\n",
       "      <td>NaN</td>\n",
       "    </tr>\n",
       "    <tr>\n",
       "      <th>C</th>\n",
       "      <td>NaN</td>\n",
       "      <td>14.0</td>\n",
       "      <td>11.0</td>\n",
       "      <td>19</td>\n",
       "      <td>14.0</td>\n",
       "    </tr>\n",
       "    <tr>\n",
       "      <th>D</th>\n",
       "      <td>12.0</td>\n",
       "      <td>NaN</td>\n",
       "      <td>11.0</td>\n",
       "      <td>17</td>\n",
       "      <td>16.0</td>\n",
       "    </tr>\n",
       "  </tbody>\n",
       "</table>\n",
       "</div>"
      ],
      "text/plain": [
       "      E     F     G   H     I\n",
       "A   NaN  19.0  12.0  12  19.0\n",
       "B   NaN   NaN   NaN  11   NaN\n",
       "C   NaN  14.0  11.0  19  14.0\n",
       "D  12.0   NaN  11.0  17  16.0"
      ]
     },
     "execution_count": 29,
     "metadata": {},
     "output_type": "execute_result"
    }
   ],
   "source": [
    "df[df>10]"
   ]
  },
  {
   "cell_type": "markdown",
   "id": "0b188eb7",
   "metadata": {
    "direction": "rtl"
   },
   "source": [
    "<span style='font-family:XB Niloofar;font-size:17px'>\n",
    "میتوان براساس یک ستون خاص آن ها را بررسی کرد :"
   ]
  },
  {
   "cell_type": "code",
   "execution_count": 30,
   "id": "5df06694",
   "metadata": {},
   "outputs": [
    {
     "data": {
      "text/html": [
       "<div>\n",
       "<style scoped>\n",
       "    .dataframe tbody tr th:only-of-type {\n",
       "        vertical-align: middle;\n",
       "    }\n",
       "\n",
       "    .dataframe tbody tr th {\n",
       "        vertical-align: top;\n",
       "    }\n",
       "\n",
       "    .dataframe thead th {\n",
       "        text-align: right;\n",
       "    }\n",
       "</style>\n",
       "<table border=\"1\" class=\"dataframe\">\n",
       "  <thead>\n",
       "    <tr style=\"text-align: right;\">\n",
       "      <th></th>\n",
       "      <th>E</th>\n",
       "      <th>F</th>\n",
       "      <th>G</th>\n",
       "      <th>H</th>\n",
       "      <th>I</th>\n",
       "    </tr>\n",
       "  </thead>\n",
       "  <tbody>\n",
       "    <tr>\n",
       "      <th>D</th>\n",
       "      <td>12</td>\n",
       "      <td>1</td>\n",
       "      <td>11</td>\n",
       "      <td>17</td>\n",
       "      <td>16</td>\n",
       "    </tr>\n",
       "  </tbody>\n",
       "</table>\n",
       "</div>"
      ],
      "text/plain": [
       "    E  F   G   H   I\n",
       "D  12  1  11  17  16"
      ]
     },
     "execution_count": 30,
     "metadata": {},
     "output_type": "execute_result"
    }
   ],
   "source": [
    "df[df['E']>10]"
   ]
  },
  {
   "cell_type": "markdown",
   "id": "d4986dcc",
   "metadata": {
    "direction": "rtl"
   },
   "source": [
    "<span style='font-family:XB Niloofar;font-size:17px'>\n",
    "چون فقط سطر D از 10 بزرگتر شد ، به خاطر همان بقیه حذف شدند"
   ]
  },
  {
   "cell_type": "markdown",
   "id": "9884e821",
   "metadata": {
    "direction": "rtl"
   },
   "source": [
    "<span style='font-family:XB Niloofar;font-size:17px'>\n",
    "حالا میخواهیم بیشتر به موضوع NaN که در بخش یادگیری ماشین خیلی کاربرد دارد بررسی کنیم : "
   ]
  },
  {
   "cell_type": "code",
   "execution_count": 32,
   "id": "df6f1982",
   "metadata": {},
   "outputs": [],
   "source": [
    "tf = pd.DataFrame(\n",
    "     {'A' : [1,2,np.nan],\n",
    "      'B' : [np.nan,np.nan,3],\n",
    "      'C' : [7,8,9]\n",
    "     }\n",
    ")"
   ]
  },
  {
   "cell_type": "code",
   "execution_count": 33,
   "id": "0d2eb001",
   "metadata": {},
   "outputs": [
    {
     "data": {
      "text/html": [
       "<div>\n",
       "<style scoped>\n",
       "    .dataframe tbody tr th:only-of-type {\n",
       "        vertical-align: middle;\n",
       "    }\n",
       "\n",
       "    .dataframe tbody tr th {\n",
       "        vertical-align: top;\n",
       "    }\n",
       "\n",
       "    .dataframe thead th {\n",
       "        text-align: right;\n",
       "    }\n",
       "</style>\n",
       "<table border=\"1\" class=\"dataframe\">\n",
       "  <thead>\n",
       "    <tr style=\"text-align: right;\">\n",
       "      <th></th>\n",
       "      <th>A</th>\n",
       "      <th>B</th>\n",
       "      <th>C</th>\n",
       "    </tr>\n",
       "  </thead>\n",
       "  <tbody>\n",
       "    <tr>\n",
       "      <th>0</th>\n",
       "      <td>1.0</td>\n",
       "      <td>NaN</td>\n",
       "      <td>7</td>\n",
       "    </tr>\n",
       "    <tr>\n",
       "      <th>1</th>\n",
       "      <td>2.0</td>\n",
       "      <td>NaN</td>\n",
       "      <td>8</td>\n",
       "    </tr>\n",
       "    <tr>\n",
       "      <th>2</th>\n",
       "      <td>NaN</td>\n",
       "      <td>3.0</td>\n",
       "      <td>9</td>\n",
       "    </tr>\n",
       "  </tbody>\n",
       "</table>\n",
       "</div>"
      ],
      "text/plain": [
       "     A    B  C\n",
       "0  1.0  NaN  7\n",
       "1  2.0  NaN  8\n",
       "2  NaN  3.0  9"
      ]
     },
     "execution_count": 33,
     "metadata": {},
     "output_type": "execute_result"
    }
   ],
   "source": [
    "tf"
   ]
  },
  {
   "cell_type": "markdown",
   "id": "59d14b7e",
   "metadata": {
    "direction": "rtl"
   },
   "source": [
    "<span style='font-family:XB Niloofar;font-size:17px'>\n",
    "اگر بخواهیم NaN ها را پیدا کنیم :"
   ]
  },
  {
   "cell_type": "code",
   "execution_count": 34,
   "id": "80ac1d60",
   "metadata": {},
   "outputs": [
    {
     "data": {
      "text/html": [
       "<div>\n",
       "<style scoped>\n",
       "    .dataframe tbody tr th:only-of-type {\n",
       "        vertical-align: middle;\n",
       "    }\n",
       "\n",
       "    .dataframe tbody tr th {\n",
       "        vertical-align: top;\n",
       "    }\n",
       "\n",
       "    .dataframe thead th {\n",
       "        text-align: right;\n",
       "    }\n",
       "</style>\n",
       "<table border=\"1\" class=\"dataframe\">\n",
       "  <thead>\n",
       "    <tr style=\"text-align: right;\">\n",
       "      <th></th>\n",
       "      <th>A</th>\n",
       "      <th>B</th>\n",
       "      <th>C</th>\n",
       "    </tr>\n",
       "  </thead>\n",
       "  <tbody>\n",
       "    <tr>\n",
       "      <th>0</th>\n",
       "      <td>False</td>\n",
       "      <td>True</td>\n",
       "      <td>False</td>\n",
       "    </tr>\n",
       "    <tr>\n",
       "      <th>1</th>\n",
       "      <td>False</td>\n",
       "      <td>True</td>\n",
       "      <td>False</td>\n",
       "    </tr>\n",
       "    <tr>\n",
       "      <th>2</th>\n",
       "      <td>True</td>\n",
       "      <td>False</td>\n",
       "      <td>False</td>\n",
       "    </tr>\n",
       "  </tbody>\n",
       "</table>\n",
       "</div>"
      ],
      "text/plain": [
       "       A      B      C\n",
       "0  False   True  False\n",
       "1  False   True  False\n",
       "2   True  False  False"
      ]
     },
     "execution_count": 34,
     "metadata": {},
     "output_type": "execute_result"
    }
   ],
   "source": [
    "tf.isna()"
   ]
  },
  {
   "cell_type": "code",
   "execution_count": 35,
   "id": "a3079cd8",
   "metadata": {},
   "outputs": [
    {
     "data": {
      "text/html": [
       "<div>\n",
       "<style scoped>\n",
       "    .dataframe tbody tr th:only-of-type {\n",
       "        vertical-align: middle;\n",
       "    }\n",
       "\n",
       "    .dataframe tbody tr th {\n",
       "        vertical-align: top;\n",
       "    }\n",
       "\n",
       "    .dataframe thead th {\n",
       "        text-align: right;\n",
       "    }\n",
       "</style>\n",
       "<table border=\"1\" class=\"dataframe\">\n",
       "  <thead>\n",
       "    <tr style=\"text-align: right;\">\n",
       "      <th></th>\n",
       "      <th>A</th>\n",
       "      <th>B</th>\n",
       "      <th>C</th>\n",
       "    </tr>\n",
       "  </thead>\n",
       "  <tbody>\n",
       "    <tr>\n",
       "      <th>0</th>\n",
       "      <td>False</td>\n",
       "      <td>True</td>\n",
       "      <td>False</td>\n",
       "    </tr>\n",
       "    <tr>\n",
       "      <th>1</th>\n",
       "      <td>False</td>\n",
       "      <td>True</td>\n",
       "      <td>False</td>\n",
       "    </tr>\n",
       "    <tr>\n",
       "      <th>2</th>\n",
       "      <td>True</td>\n",
       "      <td>False</td>\n",
       "      <td>False</td>\n",
       "    </tr>\n",
       "  </tbody>\n",
       "</table>\n",
       "</div>"
      ],
      "text/plain": [
       "       A      B      C\n",
       "0  False   True  False\n",
       "1  False   True  False\n",
       "2   True  False  False"
      ]
     },
     "execution_count": 35,
     "metadata": {},
     "output_type": "execute_result"
    }
   ],
   "source": [
    "tf.isnull()"
   ]
  },
  {
   "cell_type": "markdown",
   "id": "1bfee8c1",
   "metadata": {
    "direction": "rtl"
   },
   "source": [
    "<span style='font-family:XB Niloofar;font-size:17px'>\n",
    "اگر بخواهیم تعداد NaN هارا بشمریم :"
   ]
  },
  {
   "cell_type": "code",
   "execution_count": 36,
   "id": "a70bb160",
   "metadata": {},
   "outputs": [
    {
     "data": {
      "text/plain": [
       "A    2\n",
       "B    1\n",
       "C    3\n",
       "dtype: int64"
      ]
     },
     "execution_count": 36,
     "metadata": {},
     "output_type": "execute_result"
    }
   ],
   "source": [
    "tf.count()"
   ]
  },
  {
   "cell_type": "markdown",
   "id": "c8a25b01",
   "metadata": {
    "direction": "rtl"
   },
   "source": [
    "<span style='font-family:XB Niloofar;font-size:17px'>\n",
    "حالا بخواهیم اون ستونی که دارای NaN هست رو کامل پاک کنیم :"
   ]
  },
  {
   "cell_type": "code",
   "execution_count": 37,
   "id": "39f79cec",
   "metadata": {},
   "outputs": [
    {
     "data": {
      "text/html": [
       "<div>\n",
       "<style scoped>\n",
       "    .dataframe tbody tr th:only-of-type {\n",
       "        vertical-align: middle;\n",
       "    }\n",
       "\n",
       "    .dataframe tbody tr th {\n",
       "        vertical-align: top;\n",
       "    }\n",
       "\n",
       "    .dataframe thead th {\n",
       "        text-align: right;\n",
       "    }\n",
       "</style>\n",
       "<table border=\"1\" class=\"dataframe\">\n",
       "  <thead>\n",
       "    <tr style=\"text-align: right;\">\n",
       "      <th></th>\n",
       "      <th>C</th>\n",
       "    </tr>\n",
       "  </thead>\n",
       "  <tbody>\n",
       "    <tr>\n",
       "      <th>0</th>\n",
       "      <td>7</td>\n",
       "    </tr>\n",
       "    <tr>\n",
       "      <th>1</th>\n",
       "      <td>8</td>\n",
       "    </tr>\n",
       "    <tr>\n",
       "      <th>2</th>\n",
       "      <td>9</td>\n",
       "    </tr>\n",
       "  </tbody>\n",
       "</table>\n",
       "</div>"
      ],
      "text/plain": [
       "   C\n",
       "0  7\n",
       "1  8\n",
       "2  9"
      ]
     },
     "execution_count": 37,
     "metadata": {},
     "output_type": "execute_result"
    }
   ],
   "source": [
    "tf.dropna(axis=1)"
   ]
  },
  {
   "cell_type": "markdown",
   "id": "bbe56ced",
   "metadata": {
    "direction": "rtl"
   },
   "source": [
    "<span style='font-family:XB Niloofar;font-size:17px'>\n",
    "axis سطر یا ستون را برای ما مشخص میکند ولی همانطور که جلوتر میبینید باز پاک نمیشود . همانطور که قبلا گفتیم دیتا ارزشمند است و به این راحتی ها پاک نمیشود"
   ]
  },
  {
   "cell_type": "code",
   "execution_count": 38,
   "id": "bf8f483a",
   "metadata": {},
   "outputs": [
    {
     "data": {
      "text/html": [
       "<div>\n",
       "<style scoped>\n",
       "    .dataframe tbody tr th:only-of-type {\n",
       "        vertical-align: middle;\n",
       "    }\n",
       "\n",
       "    .dataframe tbody tr th {\n",
       "        vertical-align: top;\n",
       "    }\n",
       "\n",
       "    .dataframe thead th {\n",
       "        text-align: right;\n",
       "    }\n",
       "</style>\n",
       "<table border=\"1\" class=\"dataframe\">\n",
       "  <thead>\n",
       "    <tr style=\"text-align: right;\">\n",
       "      <th></th>\n",
       "      <th>A</th>\n",
       "      <th>B</th>\n",
       "      <th>C</th>\n",
       "    </tr>\n",
       "  </thead>\n",
       "  <tbody>\n",
       "    <tr>\n",
       "      <th>0</th>\n",
       "      <td>1.0</td>\n",
       "      <td>NaN</td>\n",
       "      <td>7</td>\n",
       "    </tr>\n",
       "    <tr>\n",
       "      <th>1</th>\n",
       "      <td>2.0</td>\n",
       "      <td>NaN</td>\n",
       "      <td>8</td>\n",
       "    </tr>\n",
       "    <tr>\n",
       "      <th>2</th>\n",
       "      <td>NaN</td>\n",
       "      <td>3.0</td>\n",
       "      <td>9</td>\n",
       "    </tr>\n",
       "  </tbody>\n",
       "</table>\n",
       "</div>"
      ],
      "text/plain": [
       "     A    B  C\n",
       "0  1.0  NaN  7\n",
       "1  2.0  NaN  8\n",
       "2  NaN  3.0  9"
      ]
     },
     "execution_count": 38,
     "metadata": {},
     "output_type": "execute_result"
    }
   ],
   "source": [
    "tf"
   ]
  },
  {
   "cell_type": "markdown",
   "id": "8fd119df",
   "metadata": {
    "direction": "rtl"
   },
   "source": [
    "<span style='font-family:XB Niloofar;font-size:17px'>\n",
    "میتوان براساس یک ستون بقیه را مرتب کرد فقط باید مواظب بود که فقط دیتاهای عددی مرتب میشوند و اگر حروف باشد به ما ارور میدهد :"
   ]
  },
  {
   "cell_type": "code",
   "execution_count": 39,
   "id": "69674ba0",
   "metadata": {},
   "outputs": [],
   "source": [
    "data1 = pd.DataFrame(\n",
    "    {\n",
    "        'company' : ['google','google','microsoft','microsoft','microsoft','meta'],\n",
    "        'person'  : ['Ali','Hossein','Mahdi','Hasan','Zahra','Narjes'],\n",
    "        'sales'   : [150,110,300,250,400,650]\n",
    "    }\n",
    "      \n",
    ")"
   ]
  },
  {
   "cell_type": "code",
   "execution_count": 40,
   "id": "87b57e92",
   "metadata": {},
   "outputs": [
    {
     "data": {
      "text/html": [
       "<div>\n",
       "<style scoped>\n",
       "    .dataframe tbody tr th:only-of-type {\n",
       "        vertical-align: middle;\n",
       "    }\n",
       "\n",
       "    .dataframe tbody tr th {\n",
       "        vertical-align: top;\n",
       "    }\n",
       "\n",
       "    .dataframe thead th {\n",
       "        text-align: right;\n",
       "    }\n",
       "</style>\n",
       "<table border=\"1\" class=\"dataframe\">\n",
       "  <thead>\n",
       "    <tr style=\"text-align: right;\">\n",
       "      <th></th>\n",
       "      <th>sales</th>\n",
       "    </tr>\n",
       "    <tr>\n",
       "      <th>company</th>\n",
       "      <th></th>\n",
       "    </tr>\n",
       "  </thead>\n",
       "  <tbody>\n",
       "    <tr>\n",
       "      <th>google</th>\n",
       "      <td>260</td>\n",
       "    </tr>\n",
       "    <tr>\n",
       "      <th>meta</th>\n",
       "      <td>650</td>\n",
       "    </tr>\n",
       "    <tr>\n",
       "      <th>microsoft</th>\n",
       "      <td>950</td>\n",
       "    </tr>\n",
       "  </tbody>\n",
       "</table>\n",
       "</div>"
      ],
      "text/plain": [
       "           sales\n",
       "company         \n",
       "google       260\n",
       "meta         650\n",
       "microsoft    950"
      ]
     },
     "execution_count": 40,
     "metadata": {},
     "output_type": "execute_result"
    }
   ],
   "source": [
    "data1.groupby('company').sum(numeric_only=True)"
   ]
  },
  {
   "cell_type": "markdown",
   "id": "a7430f72",
   "metadata": {
    "direction": "rtl"
   },
   "source": [
    "<span style='font-family:XB Niloofar;font-size:17px'>\n",
    "پارامتر numeric only برای این هست که ما فقط اعداد را میخواهیم که در حالت پیش فرض False بود :"
   ]
  },
  {
   "cell_type": "markdown",
   "id": "0ab92e1e",
   "metadata": {
    "direction": "rtl"
   },
   "source": [
    "<span style='font-family:XB Niloofar;font-size:17px'>\n",
    "میتوان مشخصات کلی یک دیتاست را هم پیدا کرد :"
   ]
  },
  {
   "cell_type": "code",
   "execution_count": 41,
   "id": "0adcb89b",
   "metadata": {},
   "outputs": [
    {
     "data": {
      "text/html": [
       "<div>\n",
       "<style scoped>\n",
       "    .dataframe tbody tr th:only-of-type {\n",
       "        vertical-align: middle;\n",
       "    }\n",
       "\n",
       "    .dataframe tbody tr th {\n",
       "        vertical-align: top;\n",
       "    }\n",
       "\n",
       "    .dataframe thead tr th {\n",
       "        text-align: left;\n",
       "    }\n",
       "\n",
       "    .dataframe thead tr:last-of-type th {\n",
       "        text-align: right;\n",
       "    }\n",
       "</style>\n",
       "<table border=\"1\" class=\"dataframe\">\n",
       "  <thead>\n",
       "    <tr>\n",
       "      <th></th>\n",
       "      <th colspan=\"8\" halign=\"left\">sales</th>\n",
       "    </tr>\n",
       "    <tr>\n",
       "      <th></th>\n",
       "      <th>count</th>\n",
       "      <th>mean</th>\n",
       "      <th>std</th>\n",
       "      <th>min</th>\n",
       "      <th>25%</th>\n",
       "      <th>50%</th>\n",
       "      <th>75%</th>\n",
       "      <th>max</th>\n",
       "    </tr>\n",
       "    <tr>\n",
       "      <th>company</th>\n",
       "      <th></th>\n",
       "      <th></th>\n",
       "      <th></th>\n",
       "      <th></th>\n",
       "      <th></th>\n",
       "      <th></th>\n",
       "      <th></th>\n",
       "      <th></th>\n",
       "    </tr>\n",
       "  </thead>\n",
       "  <tbody>\n",
       "    <tr>\n",
       "      <th>google</th>\n",
       "      <td>2.0</td>\n",
       "      <td>130.000000</td>\n",
       "      <td>28.284271</td>\n",
       "      <td>110.0</td>\n",
       "      <td>120.0</td>\n",
       "      <td>130.0</td>\n",
       "      <td>140.0</td>\n",
       "      <td>150.0</td>\n",
       "    </tr>\n",
       "    <tr>\n",
       "      <th>meta</th>\n",
       "      <td>1.0</td>\n",
       "      <td>650.000000</td>\n",
       "      <td>NaN</td>\n",
       "      <td>650.0</td>\n",
       "      <td>650.0</td>\n",
       "      <td>650.0</td>\n",
       "      <td>650.0</td>\n",
       "      <td>650.0</td>\n",
       "    </tr>\n",
       "    <tr>\n",
       "      <th>microsoft</th>\n",
       "      <td>3.0</td>\n",
       "      <td>316.666667</td>\n",
       "      <td>76.376262</td>\n",
       "      <td>250.0</td>\n",
       "      <td>275.0</td>\n",
       "      <td>300.0</td>\n",
       "      <td>350.0</td>\n",
       "      <td>400.0</td>\n",
       "    </tr>\n",
       "  </tbody>\n",
       "</table>\n",
       "</div>"
      ],
      "text/plain": [
       "          sales                                                          \n",
       "          count        mean        std    min    25%    50%    75%    max\n",
       "company                                                                  \n",
       "google      2.0  130.000000  28.284271  110.0  120.0  130.0  140.0  150.0\n",
       "meta        1.0  650.000000        NaN  650.0  650.0  650.0  650.0  650.0\n",
       "microsoft   3.0  316.666667  76.376262  250.0  275.0  300.0  350.0  400.0"
      ]
     },
     "execution_count": 41,
     "metadata": {},
     "output_type": "execute_result"
    }
   ],
   "source": [
    "data1.groupby('company').describe()"
   ]
  },
  {
   "cell_type": "code",
   "execution_count": null,
   "id": "3bbd37a5",
   "metadata": {},
   "outputs": [],
   "source": []
  }
 ],
 "metadata": {
  "direction": "ltr",
  "kernelspec": {
   "display_name": "Python 3 (ipykernel)",
   "language": "python",
   "name": "python3"
  },
  "language_info": {
   "codemirror_mode": {
    "name": "ipython",
    "version": 3
   },
   "file_extension": ".py",
   "mimetype": "text/x-python",
   "name": "python",
   "nbconvert_exporter": "python",
   "pygments_lexer": "ipython3",
   "version": "3.11.5"
  }
 },
 "nbformat": 4,
 "nbformat_minor": 5
}
